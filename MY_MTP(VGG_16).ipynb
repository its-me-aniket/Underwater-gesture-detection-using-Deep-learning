{
  "nbformat": 4,
  "nbformat_minor": 0,
  "metadata": {
    "colab": {
      "provenance": [],
      "gpuType": "T4"
    },
    "kernelspec": {
      "name": "python3",
      "display_name": "Python 3"
    },
    "language_info": {
      "name": "python"
    },
    "accelerator": "GPU"
  },
  "cells": [
    {
      "cell_type": "code",
      "execution_count": null,
      "metadata": {
        "id": "Vb2ca6Ptw3Mx"
      },
      "outputs": [],
      "source": [
        "import os\n",
        "import shutil\n",
        "import random\n",
        "from glob import glob\n",
        "from tqdm import tqdm"
      ]
    },
    {
      "cell_type": "code",
      "source": [
        "from google.colab import drive\n",
        "drive.mount('/content/drive')"
      ],
      "metadata": {
        "colab": {
          "base_uri": "https://localhost:8080/"
        },
        "id": "I-6M9wg9xGzS",
        "outputId": "e724f9ab-97a2-4534-c160-f3b3e0630d5e"
      },
      "execution_count": null,
      "outputs": [
        {
          "output_type": "stream",
          "name": "stdout",
          "text": [
            "Mounted at /content/drive\n"
          ]
        }
      ]
    },
    {
      "cell_type": "markdown",
      "source": [
        "## Merged image dataset is already in drive.\n",
        "## we can fetch from there.\n",
        "## No need to merge again."
      ],
      "metadata": {
        "id": "I4Tvnh1RKaw9"
      }
    },
    {
      "cell_type": "code",
      "source": [
        "path_to_drive = \"/content/drive/MyDrive/MTP_images/dataset_merged\"\n",
        "from_path = \"/content/dataset_merged/all_images\"\n",
        "# shutil.copytree(from_path, path_to_drive)"
      ],
      "metadata": {
        "id": "5IcmBi-jr4ot"
      },
      "execution_count": null,
      "outputs": []
    },
    {
      "cell_type": "code",
      "source": [
        "classes = ['stop', 'three', 'one', 'up', 'two', 'four', 'down']\n",
        "split_ratio = [0.7, 0.15, 0.15]  # train, val, test\n",
        "output_dir = \"dataset_merged\"  # Output merged dataset folder"
      ],
      "metadata": {
        "id": "pbT14o4GgPrA"
      },
      "execution_count": null,
      "outputs": []
    },
    {
      "cell_type": "code",
      "source": [
        "# -------------------------------\n",
        "# STEP 3: Shuffle + Split\n",
        "# -------------------------------\n",
        "splits = [\"train\", \"val\", \"test\"]\n",
        "\n",
        "for cls in classes:\n",
        "    imgs = glob(os.path.join(path_to_drive, cls, \"*\"))\n",
        "    random.shuffle(imgs)\n",
        "\n",
        "    n_total = len(imgs)\n",
        "    n_train = int(split_ratio[0] * n_total)\n",
        "    n_val = int(split_ratio[1] * n_total)\n",
        "\n",
        "    split_data = {\n",
        "        \"train\": imgs[:n_train],\n",
        "        \"val\": imgs[n_train:n_train+n_val],\n",
        "        \"test\": imgs[n_train+n_val:]\n",
        "    }\n",
        "\n",
        "    # Create output folders\n",
        "    for split in splits:\n",
        "        split_dir = os.path.join(output_dir, split, cls)\n",
        "        os.makedirs(split_dir, exist_ok=True)\n",
        "\n",
        "        for img_path in tqdm(split_data[split], desc=f\"{cls}-{split}\"):\n",
        "            shutil.copy(img_path, split_dir)\n",
        "\n",
        "print(\"✅ Dataset merged, shuffled, and split successfully!\")\n"
      ],
      "metadata": {
        "colab": {
          "base_uri": "https://localhost:8080/"
        },
        "id": "R4JXWWNt1RwI",
        "outputId": "e8fe8b17-911e-4683-b498-1f6527613afb"
      },
      "execution_count": null,
      "outputs": [
        {
          "output_type": "stream",
          "name": "stderr",
          "text": [
            "stop-train: 100%|██████████| 471/471 [00:12<00:00, 36.94it/s] \n",
            "stop-val: 100%|██████████| 100/100 [00:00<00:00, 370.41it/s]\n",
            "stop-test: 100%|██████████| 102/102 [00:00<00:00, 374.16it/s]\n",
            "three-train: 100%|██████████| 1152/1152 [00:32<00:00, 35.68it/s] \n",
            "three-val: 100%|██████████| 247/247 [00:00<00:00, 372.17it/s]\n",
            "three-test: 100%|██████████| 248/248 [00:00<00:00, 332.82it/s]\n",
            "one-train: 100%|██████████| 1408/1408 [00:44<00:00, 31.69it/s] \n",
            "one-val: 100%|██████████| 301/301 [00:00<00:00, 359.93it/s]\n",
            "one-test: 100%|██████████| 303/303 [00:00<00:00, 372.96it/s]\n",
            "up-train: 100%|██████████| 681/681 [00:28<00:00, 24.02it/s] \n",
            "up-val: 100%|██████████| 146/146 [00:00<00:00, 361.42it/s]\n",
            "up-test: 100%|██████████| 147/147 [00:00<00:00, 367.30it/s]\n",
            "two-train: 100%|██████████| 524/524 [00:18<00:00, 28.71it/s] \n",
            "two-val: 100%|██████████| 112/112 [00:00<00:00, 347.33it/s]\n",
            "two-test: 100%|██████████| 113/113 [00:00<00:00, 367.68it/s]\n",
            "four-train: 100%|██████████| 621/621 [00:22<00:00, 27.09it/s] \n",
            "four-val: 100%|██████████| 133/133 [00:00<00:00, 383.89it/s]\n",
            "four-test: 100%|██████████| 134/134 [00:00<00:00, 376.37it/s]\n",
            "down-train: 100%|██████████| 634/634 [00:16<00:00, 39.05it/s] \n",
            "down-val: 100%|██████████| 136/136 [00:00<00:00, 361.68it/s]\n",
            "down-test: 100%|██████████| 137/137 [00:00<00:00, 371.87it/s]"
          ]
        },
        {
          "output_type": "stream",
          "name": "stdout",
          "text": [
            "✅ Dataset merged, shuffled, and split successfully!\n"
          ]
        },
        {
          "output_type": "stream",
          "name": "stderr",
          "text": [
            "\n"
          ]
        }
      ]
    },
    {
      "cell_type": "markdown",
      "source": [
        "## Image transformation block"
      ],
      "metadata": {
        "id": "hG8Esp1FLBvj"
      }
    },
    {
      "cell_type": "code",
      "source": [
        "import torch\n",
        "from torch.utils.data import DataLoader, WeightedRandomSampler\n",
        "from torchvision import datasets, transforms\n",
        "import numpy as np\n",
        "\n",
        "# -------------------------------\n",
        "# CONFIG\n",
        "# -------------------------------\n",
        "data_dir = \"dataset_merged\"  # parent folder containing train/val/test\n",
        "batch_size = 32\n",
        "img_size = 224  # for CNNs like ResNet\n",
        "\n",
        "# -------------------------------\n",
        "# STEP 4: Define Transforms\n",
        "# -------------------------------\n",
        "train_transform = transforms.Compose([\n",
        "    transforms.Resize((img_size, img_size)),\n",
        "    transforms.RandomHorizontalFlip(),\n",
        "    transforms.RandomRotation(15),\n",
        "    transforms.ColorJitter(brightness=0.2, contrast=0.2, saturation=0.2, hue=0.1),\n",
        "    transforms.ToTensor(),\n",
        "    transforms.Normalize([0.485, 0.456, 0.406],  # mean (ImageNet)\n",
        "                         [0.229, 0.224, 0.225])  # std (ImageNet)\n",
        "])\n",
        "\n",
        "val_test_transform = transforms.Compose([\n",
        "    transforms.Resize((img_size, img_size)),\n",
        "    transforms.ToTensor(),\n",
        "    transforms.Normalize([0.485, 0.456, 0.406],\n",
        "                         [0.229, 0.224, 0.225])\n",
        "])\n"
      ],
      "metadata": {
        "id": "A3Z4hnXcvoB7"
      },
      "execution_count": null,
      "outputs": []
    },
    {
      "cell_type": "code",
      "source": [
        "# -------------------------------\n",
        "# STEP 5: Load Datasets\n",
        "# -------------------------------\n",
        "train_dataset = datasets.ImageFolder(os.path.join(data_dir, \"train\"), transform=train_transform)\n",
        "val_dataset   = datasets.ImageFolder(os.path.join(data_dir, \"val\"), transform=val_test_transform)\n",
        "test_dataset  = datasets.ImageFolder(os.path.join(data_dir, \"test\"), transform=val_test_transform)\n",
        "\n",
        "class_names = train_dataset.classes\n",
        "print(\"Classes:\", class_names)\n",
        "\n",
        "# -------------------------------\n",
        "# STEP 6: Handle Imbalance with WeightedRandomSampler\n",
        "# -------------------------------\n",
        "targets = [label for _, label in train_dataset.samples]\n",
        "class_sample_count = np.array([len(np.where(np.array(targets) == t)[0]) for t in np.unique(targets)])\n",
        "print(\"Class distribution:\", dict(zip(class_names, class_sample_count)))\n",
        "\n",
        "weights = 1. / class_sample_count\n",
        "sample_weights = np.array([weights[t] for t in targets])\n",
        "\n",
        "sampler = WeightedRandomSampler(weights=sample_weights, num_samples=len(sample_weights), replacement=True)\n"
      ],
      "metadata": {
        "colab": {
          "base_uri": "https://localhost:8080/"
        },
        "id": "MKtS9ZBUwTBL",
        "outputId": "c851894f-6f78-4a1e-edd9-5192f9207fb3"
      },
      "execution_count": null,
      "outputs": [
        {
          "output_type": "stream",
          "name": "stdout",
          "text": [
            "Classes: ['down', 'four', 'one', 'stop', 'three', 'two', 'up']\n",
            "Class distribution: {'down': np.int64(634), 'four': np.int64(621), 'one': np.int64(1408), 'stop': np.int64(471), 'three': np.int64(1152), 'two': np.int64(524), 'up': np.int64(681)}\n"
          ]
        }
      ]
    },
    {
      "cell_type": "code",
      "source": [
        "# -------------------------------\n",
        "# STEP 7: Create DataLoaders\n",
        "# -------------------------------\n",
        "train_loader = DataLoader(train_dataset, batch_size=batch_size, sampler=sampler, num_workers=4, pin_memory=True)\n",
        "val_loader   = DataLoader(val_dataset, batch_size=batch_size, shuffle=False, num_workers=4, pin_memory=True)\n",
        "test_loader  = DataLoader(test_dataset, batch_size=batch_size, shuffle=False, num_workers=4, pin_memory=True)\n",
        "\n",
        "print(\"✅ DataLoaders ready!\")\n"
      ],
      "metadata": {
        "colab": {
          "base_uri": "https://localhost:8080/"
        },
        "id": "jhKn6VP0wTcQ",
        "outputId": "6db76e3e-1132-406d-e0bf-b900ef7009a1"
      },
      "execution_count": null,
      "outputs": [
        {
          "output_type": "stream",
          "name": "stdout",
          "text": [
            "✅ DataLoaders ready!\n"
          ]
        },
        {
          "output_type": "stream",
          "name": "stderr",
          "text": [
            "/usr/local/lib/python3.12/dist-packages/torch/utils/data/dataloader.py:627: UserWarning: This DataLoader will create 4 worker processes in total. Our suggested max number of worker in current system is 2, which is smaller than what this DataLoader is going to create. Please be aware that excessive worker creation might get DataLoader running slow or even freeze, lower the worker number to avoid potential slowness/freeze if necessary.\n",
            "  warnings.warn(\n"
          ]
        }
      ]
    },
    {
      "cell_type": "markdown",
      "source": [
        "## Function for model training"
      ],
      "metadata": {
        "id": "JhQd12PmLLpn"
      }
    },
    {
      "cell_type": "code",
      "source": [
        "import torch\n",
        "import torch.nn as nn\n",
        "import torch.optim as optim\n",
        "from torchvision import models\n",
        "from tqdm import tqdm\n",
        "\n",
        "# -------------------------------\n",
        "# CONFIG\n",
        "# -------------------------------\n",
        "device = torch.device(\"cuda\" if torch.cuda.is_available() else \"cpu\")\n",
        "num_classes = 7\n",
        "num_epochs = 20\n",
        "learning_rate = 1e-4\n",
        "\n",
        "# -------------------------------\n",
        "# MODEL: VGG16 Pretrained\n",
        "# -------------------------------\n",
        "\n",
        "# Load pretrained VGG16 with BatchNorm\n",
        "model = models.vgg16_bn(weights=models.VGG16_BN_Weights.IMAGENET1K_V1)\n",
        "\n",
        "# Freeze all layers\n",
        "for param in model.parameters():\n",
        "    param.requires_grad = False\n",
        "\n",
        "# Replace the last classifier layer (instead of model.fc)\n",
        "in_features = model.classifier[6].in_features\n",
        "model.classifier[6] = nn.Linear(in_features, num_classes)\n",
        "\n",
        "# Send to GPU\n",
        "model = model.to(device)\n",
        "\n",
        "\n",
        "# -------------------------------\n",
        "# LOSS + OPTIMIZER\n",
        "# -------------------------------\n",
        "criterion = nn.CrossEntropyLoss()  # (can pass class weights if needed)\n",
        "optimizer = optim.Adam(model.classifier[6].parameters(), lr=learning_rate)\n",
        "\n",
        "# -------------------------------\n",
        "# TRAINING LOOP\n",
        "# -------------------------------\n",
        "def train_model(model, train_loader, val_loader, criterion, optimizer, num_epochs=20):\n",
        "    best_val_acc = 0.0\n",
        "\n",
        "    for epoch in range(num_epochs):\n",
        "        print(f\"\\nEpoch {epoch+1}/{num_epochs}\")\n",
        "        print(\"-\"*20)\n",
        "\n",
        "        # TRAINING\n",
        "        model.train()\n",
        "        train_loss, correct, total = 0.0, 0, 0\n",
        "\n",
        "        for images, labels in tqdm(train_loader):\n",
        "            images, labels = images.to(device), labels.to(device)\n",
        "\n",
        "            optimizer.zero_grad()\n",
        "            outputs = model(images)\n",
        "            loss = criterion(outputs, labels)\n",
        "            loss.backward()\n",
        "            optimizer.step()\n",
        "\n",
        "            train_loss += loss.item() * images.size(0)\n",
        "            _, predicted = outputs.max(1)\n",
        "            correct += predicted.eq(labels).sum().item()\n",
        "            total += labels.size(0)\n",
        "\n",
        "        train_acc = 100. * correct / total\n",
        "        train_loss = train_loss / total\n",
        "\n",
        "        # VALIDATION\n",
        "        model.eval()\n",
        "        val_loss, val_correct, val_total = 0.0, 0, 0\n",
        "        with torch.no_grad():\n",
        "            for images, labels in val_loader:\n",
        "                images, labels = images.to(device), labels.to(device)\n",
        "                outputs = model(images)\n",
        "                loss = criterion(outputs, labels)\n",
        "\n",
        "                val_loss += loss.item() * images.size(0)\n",
        "                _, predicted = outputs.max(1)\n",
        "                val_correct += predicted.eq(labels).sum().item()\n",
        "                val_total += labels.size(0)\n",
        "\n",
        "        val_acc = 100. * val_correct / val_total\n",
        "        val_loss = val_loss / val_total\n",
        "\n",
        "        print(f\"Train Loss: {train_loss:.4f}, Train Acc: {train_acc:.2f}%\")\n",
        "        print(f\"Val Loss: {val_loss:.4f}, Val Acc: {val_acc:.2f}%\")\n",
        "\n",
        "        # Save best model\n",
        "        if val_acc > best_val_acc:\n",
        "            best_val_acc = val_acc\n",
        "            torch.save(model.state_dict(), \"best_vgg16.pth\")\n",
        "            print(\"✅ Saved Best Model\")\n",
        "\n",
        "    print(f\"\\nTraining complete. Best Val Acc: {best_val_acc:.2f}%\")\n",
        "\n",
        "    return model\n",
        "\n",
        "# -------------------------------\n",
        "# RUN TRAINING\n",
        "# -------------------------------\n",
        "trained_model = train_model(model, train_loader, val_loader, criterion, optimizer, num_epochs)\n"
      ],
      "metadata": {
        "colab": {
          "base_uri": "https://localhost:8080/"
        },
        "id": "Bb3T1OIExEm2",
        "outputId": "d3b83602-d084-4a80-9346-bc9a558735d1"
      },
      "execution_count": null,
      "outputs": [
        {
          "output_type": "stream",
          "name": "stdout",
          "text": [
            "\n",
            "Epoch 1/20\n",
            "--------------------\n"
          ]
        },
        {
          "output_type": "stream",
          "name": "stderr",
          "text": [
            "\r  0%|          | 0/172 [00:00<?, ?it/s]/usr/local/lib/python3.12/dist-packages/torch/utils/data/dataloader.py:627: UserWarning: This DataLoader will create 4 worker processes in total. Our suggested max number of worker in current system is 2, which is smaller than what this DataLoader is going to create. Please be aware that excessive worker creation might get DataLoader running slow or even freeze, lower the worker number to avoid potential slowness/freeze if necessary.\n",
            "  warnings.warn(\n",
            "100%|██████████| 172/172 [00:54<00:00,  3.13it/s]\n"
          ]
        },
        {
          "output_type": "stream",
          "name": "stdout",
          "text": [
            "Train Loss: 1.4982, Train Acc: 54.85%\n",
            "Val Loss: 1.1635, Val Acc: 78.72%\n",
            "✅ Saved Best Model\n",
            "\n",
            "Epoch 2/20\n",
            "--------------------\n"
          ]
        },
        {
          "output_type": "stream",
          "name": "stderr",
          "text": [
            "100%|██████████| 172/172 [00:55<00:00,  3.10it/s]\n"
          ]
        },
        {
          "output_type": "stream",
          "name": "stdout",
          "text": [
            "Train Loss: 0.9625, Train Acc: 77.31%\n",
            "Val Loss: 0.8916, Val Acc: 80.00%\n",
            "✅ Saved Best Model\n",
            "\n",
            "Epoch 3/20\n",
            "--------------------\n"
          ]
        },
        {
          "output_type": "stream",
          "name": "stderr",
          "text": [
            "100%|██████████| 172/172 [00:52<00:00,  3.27it/s]\n"
          ]
        },
        {
          "output_type": "stream",
          "name": "stdout",
          "text": [
            "Train Loss: 0.7725, Train Acc: 80.64%\n",
            "Val Loss: 0.7336, Val Acc: 81.45%\n",
            "✅ Saved Best Model\n",
            "\n",
            "Epoch 4/20\n",
            "--------------------\n"
          ]
        },
        {
          "output_type": "stream",
          "name": "stderr",
          "text": [
            "100%|██████████| 172/172 [00:53<00:00,  3.24it/s]\n"
          ]
        },
        {
          "output_type": "stream",
          "name": "stdout",
          "text": [
            "Train Loss: 0.6617, Train Acc: 82.74%\n",
            "Val Loss: 0.6454, Val Acc: 83.83%\n",
            "✅ Saved Best Model\n",
            "\n",
            "Epoch 5/20\n",
            "--------------------\n"
          ]
        },
        {
          "output_type": "stream",
          "name": "stderr",
          "text": [
            "100%|██████████| 172/172 [00:53<00:00,  3.23it/s]\n"
          ]
        },
        {
          "output_type": "stream",
          "name": "stdout",
          "text": [
            "Train Loss: 0.5837, Train Acc: 83.99%\n",
            "Val Loss: 0.5683, Val Acc: 87.23%\n",
            "✅ Saved Best Model\n",
            "\n",
            "Epoch 6/20\n",
            "--------------------\n"
          ]
        },
        {
          "output_type": "stream",
          "name": "stderr",
          "text": [
            "100%|██████████| 172/172 [00:54<00:00,  3.16it/s]\n"
          ]
        },
        {
          "output_type": "stream",
          "name": "stdout",
          "text": [
            "Train Loss: 0.5350, Train Acc: 85.45%\n",
            "Val Loss: 0.5492, Val Acc: 85.87%\n",
            "\n",
            "Epoch 7/20\n",
            "--------------------\n"
          ]
        },
        {
          "output_type": "stream",
          "name": "stderr",
          "text": [
            "100%|██████████| 172/172 [00:53<00:00,  3.23it/s]\n"
          ]
        },
        {
          "output_type": "stream",
          "name": "stdout",
          "text": [
            "Train Loss: 0.5129, Train Acc: 85.43%\n",
            "Val Loss: 0.5003, Val Acc: 88.60%\n",
            "✅ Saved Best Model\n",
            "\n",
            "Epoch 8/20\n",
            "--------------------\n"
          ]
        },
        {
          "output_type": "stream",
          "name": "stderr",
          "text": [
            "100%|██████████| 172/172 [00:51<00:00,  3.33it/s]\n"
          ]
        },
        {
          "output_type": "stream",
          "name": "stdout",
          "text": [
            "Train Loss: 0.4741, Train Acc: 87.12%\n",
            "Val Loss: 0.4561, Val Acc: 89.36%\n",
            "✅ Saved Best Model\n",
            "\n",
            "Epoch 9/20\n",
            "--------------------\n"
          ]
        },
        {
          "output_type": "stream",
          "name": "stderr",
          "text": [
            "100%|██████████| 172/172 [00:53<00:00,  3.23it/s]\n"
          ]
        },
        {
          "output_type": "stream",
          "name": "stdout",
          "text": [
            "Train Loss: 0.4782, Train Acc: 85.41%\n",
            "Val Loss: 0.4554, Val Acc: 88.85%\n",
            "\n",
            "Epoch 10/20\n",
            "--------------------\n"
          ]
        },
        {
          "output_type": "stream",
          "name": "stderr",
          "text": [
            "100%|██████████| 172/172 [00:53<00:00,  3.25it/s]\n"
          ]
        },
        {
          "output_type": "stream",
          "name": "stdout",
          "text": [
            "Train Loss: 0.4447, Train Acc: 86.87%\n",
            "Val Loss: 0.4092, Val Acc: 90.81%\n",
            "✅ Saved Best Model\n",
            "\n",
            "Epoch 11/20\n",
            "--------------------\n"
          ]
        },
        {
          "output_type": "stream",
          "name": "stderr",
          "text": [
            "100%|██████████| 172/172 [00:54<00:00,  3.15it/s]\n"
          ]
        },
        {
          "output_type": "stream",
          "name": "stdout",
          "text": [
            "Train Loss: 0.4325, Train Acc: 87.58%\n",
            "Val Loss: 0.4079, Val Acc: 89.28%\n",
            "\n",
            "Epoch 12/20\n",
            "--------------------\n"
          ]
        },
        {
          "output_type": "stream",
          "name": "stderr",
          "text": [
            "100%|██████████| 172/172 [00:53<00:00,  3.24it/s]\n"
          ]
        },
        {
          "output_type": "stream",
          "name": "stdout",
          "text": [
            "Train Loss: 0.4325, Train Acc: 86.71%\n",
            "Val Loss: 0.4023, Val Acc: 89.36%\n",
            "\n",
            "Epoch 13/20\n",
            "--------------------\n"
          ]
        },
        {
          "output_type": "stream",
          "name": "stderr",
          "text": [
            "100%|██████████| 172/172 [00:52<00:00,  3.29it/s]\n"
          ]
        },
        {
          "output_type": "stream",
          "name": "stdout",
          "text": [
            "Train Loss: 0.4073, Train Acc: 87.29%\n",
            "Val Loss: 0.3650, Val Acc: 90.89%\n",
            "✅ Saved Best Model\n",
            "\n",
            "Epoch 14/20\n",
            "--------------------\n"
          ]
        },
        {
          "output_type": "stream",
          "name": "stderr",
          "text": [
            "100%|██████████| 172/172 [00:53<00:00,  3.24it/s]\n"
          ]
        },
        {
          "output_type": "stream",
          "name": "stdout",
          "text": [
            "Train Loss: 0.4162, Train Acc: 87.09%\n",
            "Val Loss: 0.3685, Val Acc: 90.30%\n",
            "\n",
            "Epoch 15/20\n",
            "--------------------\n"
          ]
        },
        {
          "output_type": "stream",
          "name": "stderr",
          "text": [
            "100%|██████████| 172/172 [00:54<00:00,  3.16it/s]\n"
          ]
        },
        {
          "output_type": "stream",
          "name": "stdout",
          "text": [
            "Train Loss: 0.4042, Train Acc: 87.96%\n",
            "Val Loss: 0.3602, Val Acc: 90.21%\n",
            "\n",
            "Epoch 16/20\n",
            "--------------------\n"
          ]
        },
        {
          "output_type": "stream",
          "name": "stderr",
          "text": [
            "100%|██████████| 172/172 [00:52<00:00,  3.27it/s]\n"
          ]
        },
        {
          "output_type": "stream",
          "name": "stdout",
          "text": [
            "Train Loss: 0.4000, Train Acc: 87.54%\n",
            "Val Loss: 0.3392, Val Acc: 92.00%\n",
            "✅ Saved Best Model\n",
            "\n",
            "Epoch 17/20\n",
            "--------------------\n"
          ]
        },
        {
          "output_type": "stream",
          "name": "stderr",
          "text": [
            "100%|██████████| 172/172 [00:52<00:00,  3.30it/s]\n"
          ]
        },
        {
          "output_type": "stream",
          "name": "stdout",
          "text": [
            "Train Loss: 0.3866, Train Acc: 87.93%\n",
            "Val Loss: 0.3327, Val Acc: 91.83%\n",
            "\n",
            "Epoch 18/20\n",
            "--------------------\n"
          ]
        },
        {
          "output_type": "stream",
          "name": "stderr",
          "text": [
            "100%|██████████| 172/172 [00:53<00:00,  3.20it/s]\n"
          ]
        },
        {
          "output_type": "stream",
          "name": "stdout",
          "text": [
            "Train Loss: 0.3696, Train Acc: 88.58%\n",
            "Val Loss: 0.3334, Val Acc: 90.81%\n",
            "\n",
            "Epoch 19/20\n",
            "--------------------\n"
          ]
        },
        {
          "output_type": "stream",
          "name": "stderr",
          "text": [
            "100%|██████████| 172/172 [00:53<00:00,  3.21it/s]\n"
          ]
        },
        {
          "output_type": "stream",
          "name": "stdout",
          "text": [
            "Train Loss: 0.3693, Train Acc: 88.14%\n",
            "Val Loss: 0.3326, Val Acc: 91.06%\n",
            "\n",
            "Epoch 20/20\n",
            "--------------------\n"
          ]
        },
        {
          "output_type": "stream",
          "name": "stderr",
          "text": [
            "100%|██████████| 172/172 [00:54<00:00,  3.15it/s]\n"
          ]
        },
        {
          "output_type": "stream",
          "name": "stdout",
          "text": [
            "Train Loss: 0.3640, Train Acc: 88.69%\n",
            "Val Loss: 0.3146, Val Acc: 91.66%\n",
            "\n",
            "Training complete. Best Val Acc: 92.00%\n"
          ]
        }
      ]
    },
    {
      "cell_type": "code",
      "source": [
        "torch.save(model.state_dict(), \"/content/drive/MyDrive/MTP_images/best_VGG16.pth\")"
      ],
      "metadata": {
        "id": "w1yYhhvG5bMx"
      },
      "execution_count": null,
      "outputs": []
    },
    {
      "cell_type": "code",
      "source": [
        "torch.save(model, \"/content/drive/MyDrive/MTP_images/trained_VGG16_model.pth\")"
      ],
      "metadata": {
        "id": "B1P7kLhC5vDp"
      },
      "execution_count": null,
      "outputs": []
    },
    {
      "cell_type": "markdown",
      "source": [
        "## Model evaluation metrics & checking confusion matrix"
      ],
      "metadata": {
        "id": "YP5_4uOULXHX"
      }
    },
    {
      "cell_type": "code",
      "source": [
        "import torch\n",
        "import torch.nn as nn\n",
        "from sklearn.metrics import (\n",
        "    classification_report,\n",
        "    confusion_matrix,\n",
        "    accuracy_score,\n",
        "    precision_score,\n",
        "    recall_score,\n",
        "    f1_score\n",
        ")\n",
        "import seaborn as sns\n",
        "import matplotlib.pyplot as plt\n",
        "\n",
        "# -------------------------------\n",
        "# LOAD BEST MODEL\n",
        "# -------------------------------\n",
        "model = models.vgg16_bn(weights=models.VGG16_BN_Weights.IMAGENET1K_V1)\n",
        "\n",
        "\n",
        "# Replace the last classifier layer (instead of model.fc)\n",
        "in_features = model.classifier[6].in_features\n",
        "model.classifier[6] = nn.Linear(in_features, num_classes)\n",
        "model.load_state_dict(torch.load(\"best_vgg16.pth\", map_location=device))\n",
        "model.to(device)\n",
        "model.eval()\n",
        "\n",
        "# -------------------------------\n",
        "# EVALUATE ON TEST SET\n",
        "# -------------------------------\n",
        "all_preds = []\n",
        "all_labels = []\n",
        "\n",
        "with torch.no_grad():\n",
        "    for images, labels in test_loader:\n",
        "        images, labels = images.to(device), labels.to(device)\n",
        "        outputs = model(images)\n",
        "        _, preds = torch.max(outputs, 1)\n",
        "\n",
        "        all_preds.extend(preds.cpu().numpy())\n",
        "        all_labels.extend(labels.cpu().numpy())\n",
        "\n",
        "# -------------------------------\n",
        "# BASIC METRICS\n",
        "# -------------------------------\n",
        "acc = accuracy_score(all_labels, all_preds)\n",
        "precision = precision_score(all_labels, all_preds, average='weighted')\n",
        "recall = recall_score(all_labels, all_preds, average='weighted')\n",
        "f1 = f1_score(all_labels, all_preds, average='weighted')\n",
        "\n",
        "print(f\"✅ Test Accuracy: {acc:.4f}\")\n",
        "print(f\"✅ Precision: {precision:.4f}\")\n",
        "print(f\"✅ Recall: {recall:.4f}\")\n",
        "print(f\"✅ F1 Score: {f1:.4f}\")\n",
        "\n",
        "# -------------------------------\n",
        "# CLASSIFICATION REPORT\n",
        "# -------------------------------\n",
        "print(\"\\nClassification Report:\\n\")\n",
        "print(classification_report(all_labels, all_preds, target_names=train_dataset.classes))\n",
        "\n",
        "# -------------------------------\n",
        "# CONFUSION MATRIX\n",
        "# -------------------------------\n",
        "cm = confusion_matrix(all_labels, all_preds)\n",
        "plt.figure(figsize=(8,6))\n",
        "sns.heatmap(cm, annot=True, fmt=\"d\", cmap=\"Blues\",\n",
        "            xticklabels=train_dataset.classes,\n",
        "            yticklabels=train_dataset.classes)\n",
        "plt.xlabel(\"Predicted\")\n",
        "plt.ylabel(\"True\")\n",
        "plt.title(\"Confusion Matrix - Test Set\")\n",
        "plt.show()\n"
      ],
      "metadata": {
        "colab": {
          "base_uri": "https://localhost:8080/",
          "height": 1000
        },
        "id": "JVfyuJmi7pkm",
        "outputId": "7514f4a4-e0a8-4cfe-8279-02567e2be829"
      },
      "execution_count": null,
      "outputs": [
        {
          "output_type": "stream",
          "name": "stderr",
          "text": [
            "/usr/local/lib/python3.12/dist-packages/torch/utils/data/dataloader.py:627: UserWarning: This DataLoader will create 4 worker processes in total. Our suggested max number of worker in current system is 2, which is smaller than what this DataLoader is going to create. Please be aware that excessive worker creation might get DataLoader running slow or even freeze, lower the worker number to avoid potential slowness/freeze if necessary.\n",
            "  warnings.warn(\n"
          ]
        },
        {
          "output_type": "stream",
          "name": "stdout",
          "text": [
            "✅ Test Accuracy: 0.9206\n",
            "✅ Precision: 0.9313\n",
            "✅ Recall: 0.9206\n",
            "✅ F1 Score: 0.9209\n",
            "\n",
            "Classification Report:\n",
            "\n",
            "              precision    recall  f1-score   support\n",
            "\n",
            "        down       0.98      0.96      0.97       137\n",
            "        four       0.88      0.95      0.91       134\n",
            "         one       1.00      0.95      0.97       303\n",
            "        stop       0.77      0.97      0.86       102\n",
            "       three       0.96      0.76      0.85       248\n",
            "         two       0.77      0.98      0.86       113\n",
            "          up       0.98      0.98      0.98       147\n",
            "\n",
            "    accuracy                           0.92      1184\n",
            "   macro avg       0.91      0.94      0.92      1184\n",
            "weighted avg       0.93      0.92      0.92      1184\n",
            "\n"
          ]
        },
        {
          "output_type": "display_data",
          "data": {
            "text/plain": [
              "<Figure size 800x600 with 2 Axes>"
            ],
            "image/png": "[encoded data removed]"
          },
          "metadata": {}
        }
      ]
    },
    {
      "cell_type": "code",
      "source": [
        "import numpy as np\n",
        "\n",
        "# -------------------------------\n",
        "# PER-CLASS ACCURACY\n",
        "# -------------------------------\n",
        "class_correct = [0 for _ in range(num_classes)]\n",
        "class_total = [0 for _ in range(num_classes)]\n",
        "\n",
        "with torch.no_grad():\n",
        "    for images, labels in test_loader:\n",
        "        images, labels = images.to(device), labels.to(device)\n",
        "        outputs = model(images)\n",
        "        _, preds = torch.max(outputs, 1)\n",
        "        correct = (preds == labels).squeeze()\n",
        "\n",
        "        for i in range(len(labels)):\n",
        "            label = labels[i]\n",
        "            class_correct[label] += correct[i].item()\n",
        "            class_total[label] += 1\n",
        "\n",
        "per_class_acc = [100 * c / t if t > 0 else 0.0 for c, t in zip(class_correct, class_total)]\n",
        "\n",
        "# Print per-class results\n",
        "print(\"\\n🔹 Per-Class Accuracy:\")\n",
        "for i, class_name in enumerate(train_dataset.classes):\n",
        "    print(f\"{class_name}: {per_class_acc[i]:.2f}%\")\n",
        "\n",
        "# -------------------------------\n",
        "# PLOT PER-CLASS ACCURACY\n",
        "# -------------------------------\n",
        "plt.figure(figsize=(10,6))\n",
        "sns.barplot(x=train_dataset.classes, y=per_class_acc, palette=\"viridis\")\n",
        "plt.xticks(rotation=45)\n",
        "plt.ylabel(\"Accuracy (%)\")\n",
        "plt.title(\"Per-Class Test Accuracy\")\n",
        "plt.ylim(0, 100)\n",
        "plt.show()\n"
      ],
      "metadata": {
        "colab": {
          "base_uri": "https://localhost:8080/",
          "height": 881
        },
        "id": "-mf9xBBE8dY1",
        "outputId": "afb06d01-2db4-49a1-fdd9-6e5091183222"
      },
      "execution_count": null,
      "outputs": [
        {
          "output_type": "stream",
          "name": "stderr",
          "text": [
            "/usr/local/lib/python3.12/dist-packages/torch/utils/data/dataloader.py:627: UserWarning: This DataLoader will create 4 worker processes in total. Our suggested max number of worker in current system is 2, which is smaller than what this DataLoader is going to create. Please be aware that excessive worker creation might get DataLoader running slow or even freeze, lower the worker number to avoid potential slowness/freeze if necessary.\n",
            "  warnings.warn(\n"
          ]
        },
        {
          "output_type": "stream",
          "name": "stdout",
          "text": [
            "\n",
            "🔹 Per-Class Accuracy:\n",
            "down: 96.35%\n",
            "four: 94.78%\n",
            "one: 95.05%\n",
            "stop: 97.06%\n",
            "three: 76.21%\n",
            "two: 98.23%\n",
            "up: 97.96%\n"
          ]
        },
        {
          "output_type": "stream",
          "name": "stderr",
          "text": [
            "/tmp/ipython-input-367820715.py:32: FutureWarning: \n",
            "\n",
            "Passing `palette` without assigning `hue` is deprecated and will be removed in v0.14.0. Assign the `x` variable to `hue` and set `legend=False` for the same effect.\n",
            "\n",
            "  sns.barplot(x=train_dataset.classes, y=per_class_acc, palette=\"viridis\")\n"
          ]
        },
        {
          "output_type": "display_data",
          "data": {
            "text/plain": [
              "<Figure size 1000x600 with 1 Axes>"
            ],
            "image/png": "[encoded data removed]"
          },
          "metadata": {}
        }
      ]
    },
    {
      "cell_type": "markdown",
      "source": [
        "## Accuracy for class 'three' & 'two' is underperforming. That's why we need class-weighted CrossEntropyLoss into our training so the model pays more attention to difficult classes (two and three)."
      ],
      "metadata": {
        "id": "Suvxy3A99oH_"
      }
    },
    {
      "cell_type": "code",
      "source": [
        "from sklearn.utils.class_weight import compute_class_weight\n",
        "import numpy as np\n",
        "import torch\n",
        "\n",
        "# Extract labels directly from dataset\n",
        "all_train_labels = [label for _, label in train_dataset.samples]\n",
        "num_classes = 7\n",
        "# Compute class weights\n",
        "class_weights = compute_class_weight(\n",
        "    class_weight=\"balanced\",\n",
        "    classes=np.arange(num_classes),\n",
        "    y=all_train_labels\n",
        ")\n",
        "\n",
        "class_weights = torch.tensor(class_weights, dtype=torch.float).to(device)\n",
        "\n",
        "print(\"Class Weights:\", class_weights)\n"
      ],
      "metadata": {
        "colab": {
          "base_uri": "https://localhost:8080/",
          "height": 221
        },
        "id": "eMyc4na78dKk",
        "outputId": "58621cf5-b748-4f2b-995b-69a11c07e994"
      },
      "execution_count": null,
      "outputs": [
        {
          "output_type": "error",
          "ename": "NameError",
          "evalue": "name 'device' is not defined",
          "traceback": [
            "\u001b[0;31m---------------------------------------------------------------------------\u001b[0m",
            "\u001b[0;31mNameError\u001b[0m                                 Traceback (most recent call last)",
            "\u001b[0;32m/tmp/ipython-input-1002796779.py\u001b[0m in \u001b[0;36m<cell line: 0>\u001b[0;34m()\u001b[0m\n\u001b[1;32m     13\u001b[0m )\n\u001b[1;32m     14\u001b[0m \u001b[0;34m\u001b[0m\u001b[0m\n\u001b[0;32m---> 15\u001b[0;31m \u001b[0mclass_weights\u001b[0m \u001b[0;34m=\u001b[0m \u001b[0mtorch\u001b[0m\u001b[0;34m.\u001b[0m\u001b[0mtensor\u001b[0m\u001b[0;34m(\u001b[0m\u001b[0mclass_weights\u001b[0m\u001b[0;34m,\u001b[0m \u001b[0mdtype\u001b[0m\u001b[0;34m=\u001b[0m\u001b[0mtorch\u001b[0m\u001b[0;34m.\u001b[0m\u001b[0mfloat\u001b[0m\u001b[0;34m)\u001b[0m\u001b[0;34m.\u001b[0m\u001b[0mto\u001b[0m\u001b[0;34m(\u001b[0m\u001b[0mdevice\u001b[0m\u001b[0;34m)\u001b[0m\u001b[0;34m\u001b[0m\u001b[0;34m\u001b[0m\u001b[0m\n\u001b[0m\u001b[1;32m     16\u001b[0m \u001b[0;34m\u001b[0m\u001b[0m\n\u001b[1;32m     17\u001b[0m \u001b[0mprint\u001b[0m\u001b[0;34m(\u001b[0m\u001b[0;34m\"Class Weights:\"\u001b[0m\u001b[0;34m,\u001b[0m \u001b[0mclass_weights\u001b[0m\u001b[0;34m)\u001b[0m\u001b[0;34m\u001b[0m\u001b[0;34m\u001b[0m\u001b[0m\n",
            "\u001b[0;31mNameError\u001b[0m: name 'device' is not defined"
          ]
        }
      ]
    },
    {
      "cell_type": "code",
      "source": [
        "import torch.nn.functional as F\n",
        "\n",
        "class FocalLoss(nn.Module):\n",
        "    def __init__(self, alpha=None, gamma=2, reduction='mean'):\n",
        "        super(FocalLoss, self).__init__()\n",
        "        self.alpha = alpha\n",
        "        self.gamma = gamma\n",
        "        self.reduction = reduction\n",
        "\n",
        "    def forward(self, inputs, targets):\n",
        "        ce_loss = F.cross_entropy(inputs, targets, weight=self.alpha, reduction='none')\n",
        "        pt = torch.exp(-ce_loss)  # probability of correct prediction\n",
        "        focal_loss = (1 - pt) ** self.gamma * ce_loss\n",
        "\n",
        "        if self.reduction == 'mean':\n",
        "            return focal_loss.mean()\n",
        "        elif self.reduction == 'sum':\n",
        "            return focal_loss.sum()\n",
        "        else:\n",
        "            return focal_loss\n"
      ],
      "metadata": {
        "id": "HIiE1BXXSgbM"
      },
      "execution_count": null,
      "outputs": []
    },
    {
      "cell_type": "code",
      "source": [
        "model2 = models.vgg16_bn(weights=models.VGG16_BN_Weights.IMAGENET1K_V1)\n",
        "\n",
        "# Freeze all layers first\n",
        "for param in model2.parameters():\n",
        "    param.requires_grad = False\n",
        "\n",
        "# Unfreeze the last 2 convolutional blocks for fine-tuning\n",
        "for param in model2.features[24:].parameters():  # last two blocks\n",
        "    param.requires_grad = True\n",
        "\n",
        "# Replace classifier final layer\n",
        "in_features = model2.classifier[6].in_features\n",
        "model2.classifier[6] = nn.Linear(in_features, num_classes)\n",
        "\n",
        "model2 = model2.to(device)\n"
      ],
      "metadata": {
        "id": "z_R1imrwUSmi"
      },
      "execution_count": null,
      "outputs": []
    },
    {
      "cell_type": "code",
      "source": [
        "# Example: give higher weight to class 'three' (index 4 here)\n",
        "# weights = torch.tensor([1.0, 1.0, 1.0, 1.0, 2.0, 1.0, 1.0]).to(device)\n",
        "\n",
        "criterion = nn.CrossEntropyLoss(weight=class_weights).to(device)\n",
        "optimizer = torch.optim.Adam(model2.parameters(), lr=1e-4)\n",
        "\n",
        "trained_model = train_model(\n",
        "    model2,\n",
        "    train_loader,   # now balanced with WeightedRandomSampler\n",
        "    val_loader,\n",
        "    criterion,\n",
        "    optimizer,\n",
        "    num_epochs=20\n",
        ")\n"
      ],
      "metadata": {
        "colab": {
          "base_uri": "https://localhost:8080/"
        },
        "id": "idQVxLQOSgJA",
        "outputId": "fd430b7a-15a8-4050-91b1-6f821f368cb0"
      },
      "execution_count": null,
      "outputs": [
        {
          "output_type": "stream",
          "name": "stdout",
          "text": [
            "\n",
            "Epoch 1/20\n",
            "--------------------\n"
          ]
        },
        {
          "output_type": "stream",
          "name": "stderr",
          "text": [
            "\r  0%|          | 0/172 [00:00<?, ?it/s]/usr/local/lib/python3.12/dist-packages/torch/utils/data/dataloader.py:627: UserWarning: This DataLoader will create 4 worker processes in total. Our suggested max number of worker in current system is 2, which is smaller than what this DataLoader is going to create. Please be aware that excessive worker creation might get DataLoader running slow or even freeze, lower the worker number to avoid potential slowness/freeze if necessary.\n",
            "  warnings.warn(\n",
            "100%|██████████| 172/172 [00:57<00:00,  3.00it/s]\n"
          ]
        },
        {
          "output_type": "stream",
          "name": "stdout",
          "text": [
            "Train Loss: 0.2880, Train Acc: 88.91%\n",
            "Val Loss: 0.0542, Val Acc: 98.13%\n",
            "✅ Saved Best Model\n",
            "\n",
            "Epoch 2/20\n",
            "--------------------\n"
          ]
        },
        {
          "output_type": "stream",
          "name": "stderr",
          "text": [
            "100%|██████████| 172/172 [00:57<00:00,  2.98it/s]\n"
          ]
        },
        {
          "output_type": "stream",
          "name": "stdout",
          "text": [
            "Train Loss: 0.0431, Train Acc: 98.20%\n",
            "Val Loss: 0.0377, Val Acc: 98.72%\n",
            "✅ Saved Best Model\n",
            "\n",
            "Epoch 3/20\n",
            "--------------------\n"
          ]
        },
        {
          "output_type": "stream",
          "name": "stderr",
          "text": [
            "100%|██████████| 172/172 [00:57<00:00,  2.99it/s]\n"
          ]
        },
        {
          "output_type": "stream",
          "name": "stdout",
          "text": [
            "Train Loss: 0.0219, Train Acc: 99.07%\n",
            "Val Loss: 0.0238, Val Acc: 99.15%\n",
            "✅ Saved Best Model\n",
            "\n",
            "Epoch 4/20\n",
            "--------------------\n"
          ]
        },
        {
          "output_type": "stream",
          "name": "stderr",
          "text": [
            "100%|██████████| 172/172 [00:56<00:00,  3.03it/s]\n"
          ]
        },
        {
          "output_type": "stream",
          "name": "stdout",
          "text": [
            "Train Loss: 0.0240, Train Acc: 99.16%\n",
            "Val Loss: 0.0266, Val Acc: 98.98%\n",
            "\n",
            "Epoch 5/20\n",
            "--------------------\n"
          ]
        },
        {
          "output_type": "stream",
          "name": "stderr",
          "text": [
            "100%|██████████| 172/172 [00:58<00:00,  2.94it/s]\n"
          ]
        },
        {
          "output_type": "stream",
          "name": "stdout",
          "text": [
            "Train Loss: 0.0118, Train Acc: 99.54%\n",
            "Val Loss: 0.0210, Val Acc: 99.23%\n",
            "✅ Saved Best Model\n",
            "\n",
            "Epoch 6/20\n",
            "--------------------\n"
          ]
        },
        {
          "output_type": "stream",
          "name": "stderr",
          "text": [
            "100%|██████████| 172/172 [00:57<00:00,  3.01it/s]\n"
          ]
        },
        {
          "output_type": "stream",
          "name": "stdout",
          "text": [
            "Train Loss: 0.0184, Train Acc: 99.27%\n",
            "Val Loss: 0.0254, Val Acc: 99.15%\n",
            "\n",
            "Epoch 7/20\n",
            "--------------------\n"
          ]
        },
        {
          "output_type": "stream",
          "name": "stderr",
          "text": [
            "100%|██████████| 172/172 [00:57<00:00,  3.01it/s]\n"
          ]
        },
        {
          "output_type": "stream",
          "name": "stdout",
          "text": [
            "Train Loss: 0.0118, Train Acc: 99.58%\n",
            "Val Loss: 0.0173, Val Acc: 99.23%\n",
            "\n",
            "Epoch 8/20\n",
            "--------------------\n"
          ]
        },
        {
          "output_type": "stream",
          "name": "stderr",
          "text": [
            "100%|██████████| 172/172 [00:56<00:00,  3.02it/s]\n"
          ]
        },
        {
          "output_type": "stream",
          "name": "stdout",
          "text": [
            "Train Loss: 0.0041, Train Acc: 99.80%\n",
            "Val Loss: 0.0106, Val Acc: 99.74%\n",
            "✅ Saved Best Model\n",
            "\n",
            "Epoch 9/20\n",
            "--------------------\n"
          ]
        },
        {
          "output_type": "stream",
          "name": "stderr",
          "text": [
            "100%|██████████| 172/172 [00:59<00:00,  2.91it/s]\n"
          ]
        },
        {
          "output_type": "stream",
          "name": "stdout",
          "text": [
            "Train Loss: 0.0066, Train Acc: 99.67%\n",
            "Val Loss: 0.0236, Val Acc: 99.32%\n",
            "\n",
            "Epoch 10/20\n",
            "--------------------\n"
          ]
        },
        {
          "output_type": "stream",
          "name": "stderr",
          "text": [
            "100%|██████████| 172/172 [00:57<00:00,  3.00it/s]\n"
          ]
        },
        {
          "output_type": "stream",
          "name": "stdout",
          "text": [
            "Train Loss: 0.0092, Train Acc: 99.69%\n",
            "Val Loss: 0.0214, Val Acc: 99.15%\n",
            "\n",
            "Epoch 11/20\n",
            "--------------------\n"
          ]
        },
        {
          "output_type": "stream",
          "name": "stderr",
          "text": [
            "100%|██████████| 172/172 [00:57<00:00,  2.97it/s]\n"
          ]
        },
        {
          "output_type": "stream",
          "name": "stdout",
          "text": [
            "Train Loss: 0.0033, Train Acc: 99.89%\n",
            "Val Loss: 0.0272, Val Acc: 99.32%\n",
            "\n",
            "Epoch 12/20\n",
            "--------------------\n"
          ]
        },
        {
          "output_type": "stream",
          "name": "stderr",
          "text": [
            "100%|██████████| 172/172 [00:58<00:00,  2.96it/s]\n"
          ]
        },
        {
          "output_type": "stream",
          "name": "stdout",
          "text": [
            "Train Loss: 0.0086, Train Acc: 99.65%\n",
            "Val Loss: 0.0461, Val Acc: 98.81%\n",
            "\n",
            "Epoch 13/20\n",
            "--------------------\n"
          ]
        },
        {
          "output_type": "stream",
          "name": "stderr",
          "text": [
            "100%|██████████| 172/172 [00:58<00:00,  2.95it/s]\n"
          ]
        },
        {
          "output_type": "stream",
          "name": "stdout",
          "text": [
            "Train Loss: 0.0094, Train Acc: 99.69%\n",
            "Val Loss: 0.0126, Val Acc: 99.49%\n",
            "\n",
            "Epoch 14/20\n",
            "--------------------\n"
          ]
        },
        {
          "output_type": "stream",
          "name": "stderr",
          "text": [
            "100%|██████████| 172/172 [00:56<00:00,  3.03it/s]\n"
          ]
        },
        {
          "output_type": "stream",
          "name": "stdout",
          "text": [
            "Train Loss: 0.0091, Train Acc: 99.60%\n",
            "Val Loss: 0.0126, Val Acc: 99.66%\n",
            "\n",
            "Epoch 15/20\n",
            "--------------------\n"
          ]
        },
        {
          "output_type": "stream",
          "name": "stderr",
          "text": [
            "100%|██████████| 172/172 [00:56<00:00,  3.05it/s]\n"
          ]
        },
        {
          "output_type": "stream",
          "name": "stdout",
          "text": [
            "Train Loss: 0.0111, Train Acc: 99.67%\n",
            "Val Loss: 0.0140, Val Acc: 99.57%\n",
            "\n",
            "Epoch 16/20\n",
            "--------------------\n"
          ]
        },
        {
          "output_type": "stream",
          "name": "stderr",
          "text": [
            "100%|██████████| 172/172 [00:55<00:00,  3.10it/s]\n"
          ]
        },
        {
          "output_type": "stream",
          "name": "stdout",
          "text": [
            "Train Loss: 0.0066, Train Acc: 99.82%\n",
            "Val Loss: 0.0100, Val Acc: 99.66%\n",
            "\n",
            "Epoch 17/20\n",
            "--------------------\n"
          ]
        },
        {
          "output_type": "stream",
          "name": "stderr",
          "text": [
            "100%|██████████| 172/172 [00:58<00:00,  2.95it/s]\n"
          ]
        },
        {
          "output_type": "stream",
          "name": "stdout",
          "text": [
            "Train Loss: 0.0043, Train Acc: 99.80%\n",
            "Val Loss: 0.0068, Val Acc: 99.66%\n",
            "\n",
            "Epoch 18/20\n",
            "--------------------\n"
          ]
        },
        {
          "output_type": "stream",
          "name": "stderr",
          "text": [
            "100%|██████████| 172/172 [00:55<00:00,  3.10it/s]\n"
          ]
        },
        {
          "output_type": "stream",
          "name": "stdout",
          "text": [
            "Train Loss: 0.0015, Train Acc: 99.89%\n",
            "Val Loss: 0.0048, Val Acc: 99.83%\n",
            "✅ Saved Best Model\n",
            "\n",
            "Epoch 19/20\n",
            "--------------------\n"
          ]
        },
        {
          "output_type": "stream",
          "name": "stderr",
          "text": [
            "100%|██████████| 172/172 [00:56<00:00,  3.02it/s]\n"
          ]
        },
        {
          "output_type": "stream",
          "name": "stdout",
          "text": [
            "Train Loss: 0.0039, Train Acc: 99.87%\n",
            "Val Loss: 0.0195, Val Acc: 99.66%\n",
            "\n",
            "Epoch 20/20\n",
            "--------------------\n"
          ]
        },
        {
          "output_type": "stream",
          "name": "stderr",
          "text": [
            "100%|██████████| 172/172 [00:55<00:00,  3.11it/s]\n"
          ]
        },
        {
          "output_type": "stream",
          "name": "stdout",
          "text": [
            "Train Loss: 0.0043, Train Acc: 99.85%\n",
            "Val Loss: 0.0142, Val Acc: 99.40%\n",
            "\n",
            "Training complete. Best Val Acc: 99.83%\n"
          ]
        }
      ]
    },
    {
      "cell_type": "code",
      "source": [
        "import torch\n",
        "import torch.nn as nn\n",
        "from sklearn.metrics import (\n",
        "    classification_report,\n",
        "    confusion_matrix,\n",
        "    accuracy_score,\n",
        "    precision_score,\n",
        "    recall_score,\n",
        "    f1_score\n",
        ")\n",
        "import seaborn as sns\n",
        "import matplotlib.pyplot as plt\n",
        "\n",
        "# -------------------------------\n",
        "# LOAD BEST MODEL\n",
        "# -------------------------------\n",
        "model = models.vgg16_bn(weights=models.VGG16_BN_Weights.IMAGENET1K_V1)\n",
        "\n",
        "\n",
        "# Replace the last classifier layer (instead of model.fc)\n",
        "in_features = model.classifier[6].in_features\n",
        "model.classifier[6] = nn.Linear(in_features, num_classes)\n",
        "model.load_state_dict(torch.load(\"best_vgg16.pth\", map_location=device))\n",
        "model.to(device)\n",
        "model.eval()\n",
        "\n",
        "# -------------------------------\n",
        "# EVALUATE ON TEST SET\n",
        "# -------------------------------\n",
        "all_preds = []\n",
        "all_labels = []\n",
        "\n",
        "with torch.no_grad():\n",
        "    for images, labels in test_loader:\n",
        "        images, labels = images.to(device), labels.to(device)\n",
        "        outputs = model(images)\n",
        "        _, preds = torch.max(outputs, 1)\n",
        "\n",
        "        all_preds.extend(preds.cpu().numpy())\n",
        "        all_labels.extend(labels.cpu().numpy())\n",
        "\n",
        "# -------------------------------\n",
        "# BASIC METRICS\n",
        "# -------------------------------\n",
        "acc = accuracy_score(all_labels, all_preds)\n",
        "precision = precision_score(all_labels, all_preds, average='weighted')\n",
        "recall = recall_score(all_labels, all_preds, average='weighted')\n",
        "f1 = f1_score(all_labels, all_preds, average='weighted')\n",
        "\n",
        "print(f\"✅ Test Accuracy: {acc:.4f}\")\n",
        "print(f\"✅ Precision: {precision:.4f}\")\n",
        "print(f\"✅ Recall: {recall:.4f}\")\n",
        "print(f\"✅ F1 Score: {f1:.4f}\")\n",
        "\n",
        "# -------------------------------\n",
        "# CLASSIFICATION REPORT\n",
        "# -------------------------------\n",
        "print(\"\\nClassification Report:\\n\")\n",
        "print(classification_report(all_labels, all_preds, target_names=train_dataset.classes))\n",
        "\n",
        "# -------------------------------\n",
        "# CONFUSION MATRIX\n",
        "# -------------------------------\n",
        "cm = confusion_matrix(all_labels, all_preds)\n",
        "plt.figure(figsize=(8,6))\n",
        "sns.heatmap(cm, annot=True, fmt=\"d\", cmap=\"Blues\",\n",
        "            xticklabels=train_dataset.classes,\n",
        "            yticklabels=train_dataset.classes)\n",
        "plt.xlabel(\"Predicted\")\n",
        "plt.ylabel(\"True\")\n",
        "plt.title(\"Confusion Matrix - Test Set\")\n",
        "plt.show()\n"
      ],
      "metadata": {
        "id": "ibIBJlKbsEF0"
      },
      "execution_count": null,
      "outputs": []
    },
    {
      "cell_type": "code",
      "source": [
        "import matplotlib.pyplot as plt\n",
        "\n",
        "def plot_training_curves(history):\n",
        "    \"\"\"\n",
        "    history: dict with keys - 'train_loss', 'val_loss', 'train_acc', 'val_acc'\n",
        "    \"\"\"\n",
        "\n",
        "    epochs = range(1, len(history['train_loss']) + 1)\n",
        "\n",
        "    plt.figure(figsize=(12,5))\n",
        "\n",
        "    # Loss plot\n",
        "    plt.subplot(1,2,1)\n",
        "    plt.plot(epochs, history['train_loss'], 'b-o', label='Train Loss')\n",
        "    plt.plot(epochs, history['val_loss'], 'r-o', label='Val Loss')\n",
        "    plt.title(\"Loss Curve\")\n",
        "    plt.xlabel(\"Epoch\")\n",
        "    plt.ylabel(\"Loss\")\n",
        "    plt.legend()\n",
        "    plt.grid(True)\n",
        "\n",
        "    # Accuracy plot\n",
        "    plt.subplot(1,2,2)\n",
        "    plt.plot(epochs, history['train_acc'], 'b-o', label='Train Acc')\n",
        "    plt.plot(epochs, history['val_acc'], 'r-o', label='Val Acc')\n",
        "    plt.title(\"Accuracy Curve\")\n",
        "    plt.xlabel(\"Epoch\")\n",
        "    plt.ylabel(\"Accuracy\")\n",
        "    plt.legend()\n",
        "    plt.grid(True)\n",
        "\n",
        "    plt.show()\n",
        "\n",
        "plot_training_curves(history)"
      ],
      "metadata": {
        "colab": {
          "base_uri": "https://localhost:8080/",
          "height": 184
        },
        "id": "ddCpvLWzSf06",
        "outputId": "f98a031d-e7fd-45cc-a6b4-04e50fefa323"
      },
      "execution_count": null,
      "outputs": [
        {
          "output_type": "error",
          "ename": "NameError",
          "evalue": "name 'history' is not defined",
          "traceback": [
            "\u001b[0;31m---------------------------------------------------------------------------\u001b[0m",
            "\u001b[0;31mNameError\u001b[0m                                 Traceback (most recent call last)",
            "\u001b[0;32m/tmp/ipython-input-1063525749.py\u001b[0m in \u001b[0;36m<cell line: 0>\u001b[0;34m()\u001b[0m\n\u001b[1;32m     32\u001b[0m     \u001b[0mplt\u001b[0m\u001b[0;34m.\u001b[0m\u001b[0mshow\u001b[0m\u001b[0;34m(\u001b[0m\u001b[0;34m)\u001b[0m\u001b[0;34m\u001b[0m\u001b[0;34m\u001b[0m\u001b[0m\n\u001b[1;32m     33\u001b[0m \u001b[0;34m\u001b[0m\u001b[0m\n\u001b[0;32m---> 34\u001b[0;31m \u001b[0mplot_training_curves\u001b[0m\u001b[0;34m(\u001b[0m\u001b[0mhistory\u001b[0m\u001b[0;34m)\u001b[0m\u001b[0;34m\u001b[0m\u001b[0;34m\u001b[0m\u001b[0m\n\u001b[0m",
            "\u001b[0;31mNameError\u001b[0m: name 'history' is not defined"
          ]
        }
      ]
    },
    {
      "cell_type": "code",
      "source": [],
      "metadata": {
        "id": "ofd-qPlgelhL"
      },
      "execution_count": null,
      "outputs": []
    }
  ]
}