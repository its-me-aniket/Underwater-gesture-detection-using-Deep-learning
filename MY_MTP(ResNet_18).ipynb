{
  "nbformat": 4,
  "nbformat_minor": 0,
  "metadata": {
    "colab": {
      "provenance": [],
      "gpuType": "T4"
    },
    "kernelspec": {
      "name": "python3",
      "display_name": "Python 3"
    },
    "language_info": {
      "name": "python"
    },
    "accelerator": "GPU"
  },
  "cells": [
    {
      "cell_type": "code",
      "execution_count": null,
      "metadata": {
        "id": "Vb2ca6Ptw3Mx"
      },
      "outputs": [],
      "source": [
        "import os\n",
        "import shutil\n",
        "import random\n",
        "from glob import glob\n",
        "from tqdm import tqdm"
      ]
    },
    {
      "cell_type": "code",
      "source": [
        "from google.colab import drive\n",
        "drive.mount('/content/drive')"
      ],
      "metadata": {
        "colab": {
          "base_uri": "https://localhost:8080/"
        },
        "id": "I-6M9wg9xGzS",
        "outputId": "dfbed98a-c7cd-4dd8-956b-8b502e7eeedf"
      },
      "execution_count": null,
      "outputs": [
        {
          "output_type": "stream",
          "name": "stdout",
          "text": [
            "Mounted at /content/drive\n"
          ]
        }
      ]
    },
    {
      "cell_type": "markdown",
      "source": [
        "## Configuring dataset paths for merging"
      ],
      "metadata": {
        "id": "jdu4PbI4Kz-6"
      }
    },
    {
      "cell_type": "code",
      "source": [
        "# -------------------------------\n",
        "# CONFIG\n",
        "# -------------------------------\n",
        "dataset1 = \"/content/drive/MyDrive/MTP_images/train\"   # First dataset folder\n",
        "dataset2 = \"/content/drive/MyDrive/MTP_images/validation\"   # Second dataset folder\n",
        "output_dir = \"dataset_merged\"  # Output merged dataset folder\n",
        "split_ratio = [0.7, 0.15, 0.15]  # train, val, test\n",
        "\n",
        "# -------------------------------\n",
        "# STEP 1: Collect class names\n",
        "# -------------------------------\n",
        "classes = os.listdir(dataset2)\n",
        "print(\"Classes:\", classes)"
      ],
      "metadata": {
        "colab": {
          "base_uri": "https://localhost:8080/"
        },
        "id": "hIcytTlK1hBC",
        "outputId": "d22852db-554e-4051-eba5-d9016dfa636a"
      },
      "execution_count": null,
      "outputs": [
        {
          "output_type": "stream",
          "name": "stdout",
          "text": [
            "Classes: ['stop', 'three', 'one', 'up', 'two', 'four', 'down']\n"
          ]
        }
      ]
    },
    {
      "cell_type": "code",
      "source": [
        "classes[0]"
      ],
      "metadata": {
        "colab": {
          "base_uri": "https://localhost:8080/",
          "height": 36
        },
        "id": "pbT14o4GgPrA",
        "outputId": "2001fe38-963a-409a-c5df-fc5c749700fc"
      },
      "execution_count": null,
      "outputs": [
        {
          "output_type": "execute_result",
          "data": {
            "text/plain": [
              "'stop'"
            ],
            "application/vnd.google.colaboratory.intrinsic+json": {
              "type": "string"
            }
          },
          "metadata": {},
          "execution_count": 10
        }
      ]
    },
    {
      "cell_type": "code",
      "source": [
        "# -------------------------------\n",
        "# STEP 2: Merge datasets\n",
        "# -------------------------------\n",
        "merged_dir = os.path.join(output_dir, \"all_images\")\n",
        "os.makedirs(merged_dir, exist_ok=True)\n",
        "\n",
        "for cls in classes:\n",
        "    os.makedirs(os.path.join(merged_dir, cls), exist_ok=True)\n",
        "\n",
        "    # Get all images from dataset1 + dataset2\n",
        "    imgs1 = glob(os.path.join(dataset1, cls, \"*\"))\n",
        "    imgs2 = glob(os.path.join(dataset2, cls, \"*\"))\n",
        "    all_imgs = imgs1 + imgs2\n",
        "\n",
        "    print(f\"Merging {cls}: {len(all_imgs)} images\")\n",
        "\n",
        "    # Copy images into merged folder with unique names\n",
        "    for i, img_path in enumerate(all_imgs):\n",
        "        ext = os.path.splitext(img_path)[1]\n",
        "        new_name = f\"{cls}_{i}{ext}\"\n",
        "        shutil.copy(img_path, os.path.join(merged_dir, cls, new_name))"
      ],
      "metadata": {
        "id": "B3QmGCba1o96"
      },
      "execution_count": null,
      "outputs": []
    },
    {
      "cell_type": "markdown",
      "source": [
        "## Merged image dataset is already in drive.\n",
        "## we can fetch from there.\n",
        "## No need to merge again."
      ],
      "metadata": {
        "id": "I4Tvnh1RKaw9"
      }
    },
    {
      "cell_type": "code",
      "source": [
        "path_to_drive = \"/content/drive/MyDrive/MTP_images/dataset_merged\"\n",
        "from_path = \"/content/dataset_merged/all_images\"\n",
        "# shutil.copytree(from_path, path_to_drive)"
      ],
      "metadata": {
        "id": "5IcmBi-jr4ot"
      },
      "execution_count": null,
      "outputs": []
    },
    {
      "cell_type": "code",
      "source": [
        "# -------------------------------\n",
        "# STEP 3: Shuffle + Split\n",
        "# -------------------------------\n",
        "splits = [\"train\", \"val\", \"test\"]\n",
        "\n",
        "for cls in classes:\n",
        "    imgs = glob(os.path.join(path_to_drive, cls, \"*\"))\n",
        "    random.shuffle(imgs)\n",
        "\n",
        "    n_total = len(imgs)\n",
        "    n_train = int(split_ratio[0] * n_total)\n",
        "    n_val = int(split_ratio[1] * n_total)\n",
        "\n",
        "    split_data = {\n",
        "        \"train\": imgs[:n_train],\n",
        "        \"val\": imgs[n_train:n_train+n_val],\n",
        "        \"test\": imgs[n_train+n_val:]\n",
        "    }\n",
        "\n",
        "    # Create output folders\n",
        "    for split in splits:\n",
        "        split_dir = os.path.join(output_dir, split, cls)\n",
        "        os.makedirs(split_dir, exist_ok=True)\n",
        "\n",
        "        for img_path in tqdm(split_data[split], desc=f\"{cls}-{split}\"):\n",
        "            shutil.copy(img_path, split_dir)\n",
        "\n",
        "print(\"✅ Dataset merged, shuffled, and split successfully!\")\n"
      ],
      "metadata": {
        "colab": {
          "base_uri": "https://localhost:8080/"
        },
        "id": "R4JXWWNt1RwI",
        "outputId": "f4e708e3-cb88-4c37-e09f-c92f10b0fad4"
      },
      "execution_count": null,
      "outputs": [
        {
          "output_type": "stream",
          "name": "stderr",
          "text": [
            "stop-train: 100%|██████████| 471/471 [00:13<00:00, 35.32it/s] \n",
            "stop-val: 100%|██████████| 100/100 [00:00<00:00, 355.68it/s]\n",
            "stop-test: 100%|██████████| 102/102 [00:00<00:00, 418.53it/s]\n",
            "three-train: 100%|██████████| 1152/1152 [00:22<00:00, 50.15it/s] \n",
            "three-val: 100%|██████████| 247/247 [00:00<00:00, 388.33it/s]\n",
            "three-test: 100%|██████████| 248/248 [00:01<00:00, 239.33it/s]\n",
            "one-train: 100%|██████████| 1408/1408 [00:32<00:00, 43.99it/s] \n",
            "one-val: 100%|██████████| 301/301 [00:00<00:00, 346.60it/s]\n",
            "one-test: 100%|██████████| 303/303 [00:00<00:00, 346.16it/s]\n",
            "up-train: 100%|██████████| 681/681 [00:22<00:00, 30.23it/s] \n",
            "up-val: 100%|██████████| 146/146 [00:00<00:00, 406.50it/s]\n",
            "up-test: 100%|██████████| 147/147 [00:00<00:00, 390.24it/s]\n",
            "two-train: 100%|██████████| 524/524 [00:13<00:00, 39.27it/s] \n",
            "two-val: 100%|██████████| 112/112 [00:00<00:00, 406.86it/s]\n",
            "two-test: 100%|██████████| 113/113 [00:00<00:00, 376.94it/s]\n",
            "four-train: 100%|██████████| 621/621 [00:12<00:00, 49.14it/s] \n",
            "four-val: 100%|██████████| 133/133 [00:00<00:00, 387.92it/s]\n",
            "four-test: 100%|██████████| 134/134 [00:00<00:00, 399.28it/s]\n",
            "down-train: 100%|██████████| 634/634 [00:16<00:00, 39.26it/s] \n",
            "down-val: 100%|██████████| 136/136 [00:00<00:00, 378.25it/s]\n",
            "down-test: 100%|██████████| 137/137 [00:00<00:00, 359.00it/s]"
          ]
        },
        {
          "output_type": "stream",
          "name": "stdout",
          "text": [
            "✅ Dataset merged, shuffled, and split successfully!\n"
          ]
        },
        {
          "output_type": "stream",
          "name": "stderr",
          "text": [
            "\n"
          ]
        }
      ]
    },
    {
      "cell_type": "markdown",
      "source": [
        "## Image transformation block"
      ],
      "metadata": {
        "id": "hG8Esp1FLBvj"
      }
    },
    {
      "cell_type": "code",
      "source": [
        "import torch\n",
        "from torch.utils.data import DataLoader, WeightedRandomSampler\n",
        "from torchvision import datasets, transforms\n",
        "import numpy as np\n",
        "\n",
        "# -------------------------------\n",
        "# CONFIG\n",
        "# -------------------------------\n",
        "data_dir = \"dataset_merged\"  # parent folder containing train/val/test\n",
        "batch_size = 32\n",
        "img_size = 224  # for CNNs like ResNet\n",
        "\n",
        "# -------------------------------\n",
        "# STEP 4: Define Transforms\n",
        "# -------------------------------\n",
        "train_transform = transforms.Compose([\n",
        "    transforms.Resize((img_size, img_size)),\n",
        "    transforms.RandomHorizontalFlip(),\n",
        "    transforms.RandomRotation(15),\n",
        "    transforms.ColorJitter(brightness=0.2, contrast=0.2, saturation=0.2, hue=0.1),\n",
        "    transforms.ToTensor(),\n",
        "    transforms.Normalize([0.485, 0.456, 0.406],  # mean (ImageNet)\n",
        "                         [0.229, 0.224, 0.225])  # std (ImageNet)\n",
        "])\n",
        "\n",
        "val_test_transform = transforms.Compose([\n",
        "    transforms.Resize((img_size, img_size)),\n",
        "    transforms.ToTensor(),\n",
        "    transforms.Normalize([0.485, 0.456, 0.406],\n",
        "                         [0.229, 0.224, 0.225])\n",
        "])\n"
      ],
      "metadata": {
        "id": "A3Z4hnXcvoB7"
      },
      "execution_count": null,
      "outputs": []
    },
    {
      "cell_type": "code",
      "source": [
        "# -------------------------------\n",
        "# STEP 5: Load Datasets\n",
        "# -------------------------------\n",
        "train_dataset = datasets.ImageFolder(os.path.join(data_dir, \"train\"), transform=train_transform)\n",
        "val_dataset   = datasets.ImageFolder(os.path.join(data_dir, \"val\"), transform=val_test_transform)\n",
        "test_dataset  = datasets.ImageFolder(os.path.join(data_dir, \"test\"), transform=val_test_transform)\n",
        "\n",
        "class_names = train_dataset.classes\n",
        "print(\"Classes:\", class_names)\n",
        "\n",
        "# -------------------------------\n",
        "# STEP 6: Handle Imbalance with WeightedRandomSampler\n",
        "# -------------------------------\n",
        "targets = [label for _, label in train_dataset.samples]\n",
        "class_sample_count = np.array([len(np.where(np.array(targets) == t)[0]) for t in np.unique(targets)])\n",
        "print(\"Class distribution:\", dict(zip(class_names, class_sample_count)))\n",
        "\n",
        "weights = 1. / class_sample_count\n",
        "sample_weights = np.array([weights[t] for t in targets])\n",
        "\n",
        "sampler = WeightedRandomSampler(weights=sample_weights, num_samples=len(sample_weights), replacement=True)\n"
      ],
      "metadata": {
        "colab": {
          "base_uri": "https://localhost:8080/"
        },
        "id": "MKtS9ZBUwTBL",
        "outputId": "bbd77385-e9d0-41a7-9d4b-d7ca304724c6"
      },
      "execution_count": null,
      "outputs": [
        {
          "output_type": "stream",
          "name": "stdout",
          "text": [
            "Classes: ['down', 'four', 'one', 'stop', 'three', 'two', 'up']\n",
            "Class distribution: {'down': np.int64(634), 'four': np.int64(621), 'one': np.int64(1408), 'stop': np.int64(471), 'three': np.int64(1152), 'two': np.int64(524), 'up': np.int64(681)}\n"
          ]
        }
      ]
    },
    {
      "cell_type": "code",
      "source": [
        "# -------------------------------\n",
        "# STEP 7: Create DataLoaders\n",
        "# -------------------------------\n",
        "train_loader = DataLoader(train_dataset, batch_size=batch_size, sampler=sampler, num_workers=4, pin_memory=True)\n",
        "val_loader   = DataLoader(val_dataset, batch_size=batch_size, shuffle=False, num_workers=4, pin_memory=True)\n",
        "test_loader  = DataLoader(test_dataset, batch_size=batch_size, shuffle=False, num_workers=4, pin_memory=True)\n",
        "\n",
        "print(\"✅ DataLoaders ready!\")\n"
      ],
      "metadata": {
        "colab": {
          "base_uri": "https://localhost:8080/"
        },
        "id": "jhKn6VP0wTcQ",
        "outputId": "584db34a-7c3f-4d61-8651-d577a51376ab"
      },
      "execution_count": null,
      "outputs": [
        {
          "output_type": "stream",
          "name": "stdout",
          "text": [
            "✅ DataLoaders ready!\n"
          ]
        },
        {
          "output_type": "stream",
          "name": "stderr",
          "text": [
            "/usr/local/lib/python3.11/dist-packages/torch/utils/data/dataloader.py:624: UserWarning: This DataLoader will create 4 worker processes in total. Our suggested max number of worker in current system is 2, which is smaller than what this DataLoader is going to create. Please be aware that excessive worker creation might get DataLoader running slow or even freeze, lower the worker number to avoid potential slowness/freeze if necessary.\n",
            "  warnings.warn(\n"
          ]
        }
      ]
    },
    {
      "cell_type": "markdown",
      "source": [
        "## Function for model training"
      ],
      "metadata": {
        "id": "JhQd12PmLLpn"
      }
    },
    {
      "cell_type": "code",
      "source": [
        "import torch\n",
        "import torch.nn as nn\n",
        "import torch.optim as optim\n",
        "from torchvision import models\n",
        "from tqdm import tqdm\n",
        "\n",
        "# -------------------------------\n",
        "# CONFIG\n",
        "# -------------------------------\n",
        "device = torch.device(\"cuda\" if torch.cuda.is_available() else \"cpu\")\n",
        "num_classes = 7\n",
        "num_epochs = 20\n",
        "learning_rate = 1e-4\n",
        "\n",
        "# -------------------------------\n",
        "# MODEL: ResNet18 Pretrained\n",
        "# -------------------------------\n",
        "model = models.resnet18(pretrained=True)\n",
        "\n",
        "# Freeze all layers (optional: you can unfreeze later for fine-tuning)\n",
        "for param in model.parameters():\n",
        "    param.requires_grad = False\n",
        "\n",
        "# Replace final fully connected layer\n",
        "in_features = model.fc.in_features\n",
        "model.fc = nn.Linear(in_features, num_classes)\n",
        "\n",
        "model = model.to(device)\n",
        "\n",
        "# -------------------------------\n",
        "# LOSS + OPTIMIZER\n",
        "# -------------------------------\n",
        "criterion = nn.CrossEntropyLoss()  # (can pass class weights if needed)\n",
        "optimizer = optim.Adam(model.fc.parameters(), lr=learning_rate)\n",
        "\n",
        "# -------------------------------\n",
        "# TRAINING LOOP\n",
        "# -------------------------------\n",
        "def train_model(model, train_loader, val_loader, criterion, optimizer, num_epochs=20):\n",
        "    best_val_acc = 0.0\n",
        "\n",
        "    for epoch in range(num_epochs):\n",
        "        print(f\"\\nEpoch {epoch+1}/{num_epochs}\")\n",
        "        print(\"-\"*20)\n",
        "\n",
        "        # TRAINING\n",
        "        model.train()\n",
        "        train_loss, correct, total = 0.0, 0, 0\n",
        "\n",
        "        for images, labels in tqdm(train_loader):\n",
        "            images, labels = images.to(device), labels.to(device)\n",
        "\n",
        "            optimizer.zero_grad()\n",
        "            outputs = model(images)\n",
        "            loss = criterion(outputs, labels)\n",
        "            loss.backward()\n",
        "            optimizer.step()\n",
        "\n",
        "            train_loss += loss.item() * images.size(0)\n",
        "            _, predicted = outputs.max(1)\n",
        "            correct += predicted.eq(labels).sum().item()\n",
        "            total += labels.size(0)\n",
        "\n",
        "        train_acc = 100. * correct / total\n",
        "        train_loss = train_loss / total\n",
        "\n",
        "        # VALIDATION\n",
        "        model.eval()\n",
        "        val_loss, val_correct, val_total = 0.0, 0, 0\n",
        "        with torch.no_grad():\n",
        "            for images, labels in val_loader:\n",
        "                images, labels = images.to(device), labels.to(device)\n",
        "                outputs = model(images)\n",
        "                loss = criterion(outputs, labels)\n",
        "\n",
        "                val_loss += loss.item() * images.size(0)\n",
        "                _, predicted = outputs.max(1)\n",
        "                val_correct += predicted.eq(labels).sum().item()\n",
        "                val_total += labels.size(0)\n",
        "\n",
        "        val_acc = 100. * val_correct / val_total\n",
        "        val_loss = val_loss / val_total\n",
        "\n",
        "        print(f\"Train Loss: {train_loss:.4f}, Train Acc: {train_acc:.2f}%\")\n",
        "        print(f\"Val Loss: {val_loss:.4f}, Val Acc: {val_acc:.2f}%\")\n",
        "\n",
        "        # Save best model\n",
        "        if val_acc > best_val_acc:\n",
        "            best_val_acc = val_acc\n",
        "            torch.save(model.state_dict(), \"best_resnet18.pth\")\n",
        "            print(\"✅ Saved Best Model\")\n",
        "\n",
        "    print(f\"\\nTraining complete. Best Val Acc: {best_val_acc:.2f}%\")\n",
        "\n",
        "    return model\n",
        "\n",
        "# -------------------------------\n",
        "# RUN TRAINING\n",
        "# -------------------------------\n",
        "trained_model = train_model(model, train_loader, val_loader, criterion, optimizer, num_epochs)\n"
      ],
      "metadata": {
        "colab": {
          "base_uri": "https://localhost:8080/"
        },
        "id": "Bb3T1OIExEm2",
        "outputId": "aa534903-6dff-4efa-899e-230fec972ec4"
      },
      "execution_count": null,
      "outputs": [
        {
          "output_type": "stream",
          "name": "stderr",
          "text": [
            "/usr/local/lib/python3.11/dist-packages/torchvision/models/_utils.py:208: UserWarning: The parameter 'pretrained' is deprecated since 0.13 and may be removed in the future, please use 'weights' instead.\n",
            "  warnings.warn(\n",
            "/usr/local/lib/python3.11/dist-packages/torchvision/models/_utils.py:223: UserWarning: Arguments other than a weight enum or `None` for 'weights' are deprecated since 0.13 and may be removed in the future. The current behavior is equivalent to passing `weights=ResNet18_Weights.IMAGENET1K_V1`. You can also use `weights=ResNet18_Weights.DEFAULT` to get the most up-to-date weights.\n",
            "  warnings.warn(msg)\n",
            "Downloading: \"https://download.pytorch.org/models/resnet18-f37072fd.pth\" to /root/.cache/torch/hub/checkpoints/resnet18-f37072fd.pth\n",
            "100%|██████████| 44.7M/44.7M [00:00<00:00, 190MB/s]\n"
          ]
        },
        {
          "output_type": "stream",
          "name": "stdout",
          "text": [
            "\n",
            "Epoch 1/20\n",
            "--------------------\n"
          ]
        },
        {
          "output_type": "stream",
          "name": "stderr",
          "text": [
            "100%|██████████| 172/172 [00:47<00:00,  3.60it/s]\n"
          ]
        },
        {
          "output_type": "stream",
          "name": "stdout",
          "text": [
            "Train Loss: 1.8753, Train Acc: 27.03%\n",
            "Val Loss: 1.6253, Val Acc: 44.94%\n",
            "✅ Saved Best Model\n",
            "\n",
            "Epoch 2/20\n",
            "--------------------\n"
          ]
        },
        {
          "output_type": "stream",
          "name": "stderr",
          "text": [
            "100%|██████████| 172/172 [00:46<00:00,  3.71it/s]\n"
          ]
        },
        {
          "output_type": "stream",
          "name": "stdout",
          "text": [
            "Train Loss: 1.5465, Train Acc: 56.13%\n",
            "Val Loss: 1.3866, Val Acc: 58.21%\n",
            "✅ Saved Best Model\n",
            "\n",
            "Epoch 3/20\n",
            "--------------------\n"
          ]
        },
        {
          "output_type": "stream",
          "name": "stderr",
          "text": [
            "100%|██████████| 172/172 [00:46<00:00,  3.68it/s]\n"
          ]
        },
        {
          "output_type": "stream",
          "name": "stdout",
          "text": [
            "Train Loss: 1.3157, Train Acc: 68.40%\n",
            "Val Loss: 1.1992, Val Acc: 65.62%\n",
            "✅ Saved Best Model\n",
            "\n",
            "Epoch 4/20\n",
            "--------------------\n"
          ]
        },
        {
          "output_type": "stream",
          "name": "stderr",
          "text": [
            "100%|██████████| 172/172 [00:48<00:00,  3.57it/s]\n"
          ]
        },
        {
          "output_type": "stream",
          "name": "stdout",
          "text": [
            "Train Loss: 1.1462, Train Acc: 74.74%\n",
            "Val Loss: 1.0225, Val Acc: 74.98%\n",
            "✅ Saved Best Model\n",
            "\n",
            "Epoch 5/20\n",
            "--------------------\n"
          ]
        },
        {
          "output_type": "stream",
          "name": "stderr",
          "text": [
            "100%|██████████| 172/172 [00:46<00:00,  3.72it/s]\n"
          ]
        },
        {
          "output_type": "stream",
          "name": "stdout",
          "text": [
            "Train Loss: 1.0154, Train Acc: 78.69%\n",
            "Val Loss: 0.9423, Val Acc: 76.00%\n",
            "✅ Saved Best Model\n",
            "\n",
            "Epoch 6/20\n",
            "--------------------\n"
          ]
        },
        {
          "output_type": "stream",
          "name": "stderr",
          "text": [
            "100%|██████████| 172/172 [00:45<00:00,  3.75it/s]\n"
          ]
        },
        {
          "output_type": "stream",
          "name": "stdout",
          "text": [
            "Train Loss: 0.9190, Train Acc: 80.55%\n",
            "Val Loss: 0.8196, Val Acc: 81.02%\n",
            "✅ Saved Best Model\n",
            "\n",
            "Epoch 7/20\n",
            "--------------------\n"
          ]
        },
        {
          "output_type": "stream",
          "name": "stderr",
          "text": [
            "100%|██████████| 172/172 [00:47<00:00,  3.61it/s]\n"
          ]
        },
        {
          "output_type": "stream",
          "name": "stdout",
          "text": [
            "Train Loss: 0.8463, Train Acc: 81.88%\n",
            "Val Loss: 0.7554, Val Acc: 82.55%\n",
            "✅ Saved Best Model\n",
            "\n",
            "Epoch 8/20\n",
            "--------------------\n"
          ]
        },
        {
          "output_type": "stream",
          "name": "stderr",
          "text": [
            "100%|██████████| 172/172 [00:45<00:00,  3.76it/s]\n"
          ]
        },
        {
          "output_type": "stream",
          "name": "stdout",
          "text": [
            "Train Loss: 0.8001, Train Acc: 82.24%\n",
            "Val Loss: 0.6992, Val Acc: 83.40%\n",
            "✅ Saved Best Model\n",
            "\n",
            "Epoch 9/20\n",
            "--------------------\n"
          ]
        },
        {
          "output_type": "stream",
          "name": "stderr",
          "text": [
            "100%|██████████| 172/172 [00:46<00:00,  3.73it/s]\n"
          ]
        },
        {
          "output_type": "stream",
          "name": "stdout",
          "text": [
            "Train Loss: 0.7316, Train Acc: 84.12%\n",
            "Val Loss: 0.6639, Val Acc: 83.91%\n",
            "✅ Saved Best Model\n",
            "\n",
            "Epoch 10/20\n",
            "--------------------\n"
          ]
        },
        {
          "output_type": "stream",
          "name": "stderr",
          "text": [
            "100%|██████████| 172/172 [00:48<00:00,  3.57it/s]\n"
          ]
        },
        {
          "output_type": "stream",
          "name": "stdout",
          "text": [
            "Train Loss: 0.6945, Train Acc: 84.74%\n",
            "Val Loss: 0.6348, Val Acc: 84.60%\n",
            "✅ Saved Best Model\n",
            "\n",
            "Epoch 11/20\n",
            "--------------------\n"
          ]
        },
        {
          "output_type": "stream",
          "name": "stderr",
          "text": [
            "100%|██████████| 172/172 [00:47<00:00,  3.66it/s]\n"
          ]
        },
        {
          "output_type": "stream",
          "name": "stdout",
          "text": [
            "Train Loss: 0.6550, Train Acc: 85.45%\n",
            "Val Loss: 0.6010, Val Acc: 85.79%\n",
            "✅ Saved Best Model\n",
            "\n",
            "Epoch 12/20\n",
            "--------------------\n"
          ]
        },
        {
          "output_type": "stream",
          "name": "stderr",
          "text": [
            "100%|██████████| 172/172 [00:46<00:00,  3.68it/s]\n"
          ]
        },
        {
          "output_type": "stream",
          "name": "stdout",
          "text": [
            "Train Loss: 0.6244, Train Acc: 86.00%\n",
            "Val Loss: 0.5851, Val Acc: 85.87%\n",
            "✅ Saved Best Model\n",
            "\n",
            "Epoch 13/20\n",
            "--------------------\n"
          ]
        },
        {
          "output_type": "stream",
          "name": "stderr",
          "text": [
            "100%|██████████| 172/172 [00:47<00:00,  3.65it/s]\n"
          ]
        },
        {
          "output_type": "stream",
          "name": "stdout",
          "text": [
            "Train Loss: 0.5890, Train Acc: 86.61%\n",
            "Val Loss: 0.5499, Val Acc: 85.70%\n",
            "\n",
            "Epoch 14/20\n",
            "--------------------\n"
          ]
        },
        {
          "output_type": "stream",
          "name": "stderr",
          "text": [
            "100%|██████████| 172/172 [00:47<00:00,  3.59it/s]\n"
          ]
        },
        {
          "output_type": "stream",
          "name": "stdout",
          "text": [
            "Train Loss: 0.5675, Train Acc: 87.12%\n",
            "Val Loss: 0.5233, Val Acc: 87.06%\n",
            "✅ Saved Best Model\n",
            "\n",
            "Epoch 15/20\n",
            "--------------------\n"
          ]
        },
        {
          "output_type": "stream",
          "name": "stderr",
          "text": [
            "100%|██████████| 172/172 [00:46<00:00,  3.70it/s]\n"
          ]
        },
        {
          "output_type": "stream",
          "name": "stdout",
          "text": [
            "Train Loss: 0.5519, Train Acc: 87.20%\n",
            "Val Loss: 0.4945, Val Acc: 89.11%\n",
            "✅ Saved Best Model\n",
            "\n",
            "Epoch 16/20\n",
            "--------------------\n"
          ]
        },
        {
          "output_type": "stream",
          "name": "stderr",
          "text": [
            "100%|██████████| 172/172 [00:45<00:00,  3.75it/s]\n"
          ]
        },
        {
          "output_type": "stream",
          "name": "stdout",
          "text": [
            "Train Loss: 0.5403, Train Acc: 86.81%\n",
            "Val Loss: 0.4673, Val Acc: 89.96%\n",
            "✅ Saved Best Model\n",
            "\n",
            "Epoch 17/20\n",
            "--------------------\n"
          ]
        },
        {
          "output_type": "stream",
          "name": "stderr",
          "text": [
            "100%|██████████| 172/172 [00:46<00:00,  3.67it/s]\n"
          ]
        },
        {
          "output_type": "stream",
          "name": "stdout",
          "text": [
            "Train Loss: 0.5141, Train Acc: 87.83%\n",
            "Val Loss: 0.4612, Val Acc: 89.45%\n",
            "\n",
            "Epoch 18/20\n",
            "--------------------\n"
          ]
        },
        {
          "output_type": "stream",
          "name": "stderr",
          "text": [
            "100%|██████████| 172/172 [00:45<00:00,  3.75it/s]\n"
          ]
        },
        {
          "output_type": "stream",
          "name": "stdout",
          "text": [
            "Train Loss: 0.5066, Train Acc: 87.76%\n",
            "Val Loss: 0.4704, Val Acc: 87.15%\n",
            "\n",
            "Epoch 19/20\n",
            "--------------------\n"
          ]
        },
        {
          "output_type": "stream",
          "name": "stderr",
          "text": [
            "100%|██████████| 172/172 [00:46<00:00,  3.71it/s]\n"
          ]
        },
        {
          "output_type": "stream",
          "name": "stdout",
          "text": [
            "Train Loss: 0.4902, Train Acc: 87.82%\n",
            "Val Loss: 0.4054, Val Acc: 91.32%\n",
            "✅ Saved Best Model\n",
            "\n",
            "Epoch 20/20\n",
            "--------------------\n"
          ]
        },
        {
          "output_type": "stream",
          "name": "stderr",
          "text": [
            "100%|██████████| 172/172 [00:46<00:00,  3.70it/s]\n"
          ]
        },
        {
          "output_type": "stream",
          "name": "stdout",
          "text": [
            "Train Loss: 0.4642, Train Acc: 88.87%\n",
            "Val Loss: 0.4126, Val Acc: 90.81%\n",
            "\n",
            "Training complete. Best Val Acc: 91.32%\n"
          ]
        }
      ]
    },
    {
      "cell_type": "code",
      "source": [
        "torch.save(model.state_dict(), \"/content/drive/MyDrive/MTP_images/best_resnet18.pth\")"
      ],
      "metadata": {
        "id": "w1yYhhvG5bMx"
      },
      "execution_count": null,
      "outputs": []
    },
    {
      "cell_type": "code",
      "source": [
        "torch.save(model, \"/content/drive/MyDrive/MTP_images/trained_resnet18_model.pth\")"
      ],
      "metadata": {
        "id": "B1P7kLhC5vDp"
      },
      "execution_count": null,
      "outputs": []
    },
    {
      "cell_type": "markdown",
      "source": [
        "## Model evaluation metrics & checking confusion matrix"
      ],
      "metadata": {
        "id": "YP5_4uOULXHX"
      }
    },
    {
      "cell_type": "code",
      "source": [
        "import torch\n",
        "import torch.nn as nn\n",
        "from sklearn.metrics import (\n",
        "    classification_report,\n",
        "    confusion_matrix,\n",
        "    accuracy_score,\n",
        "    precision_score,\n",
        "    recall_score,\n",
        "    f1_score\n",
        ")\n",
        "import seaborn as sns\n",
        "import matplotlib.pyplot as plt\n",
        "\n",
        "# -------------------------------\n",
        "# LOAD BEST MODEL\n",
        "# -------------------------------\n",
        "model = models.resnet18(pretrained=False)\n",
        "model.fc = nn.Linear(model.fc.in_features, num_classes)\n",
        "model.load_state_dict(torch.load(\"best_resnet18.pth\", map_location=device))\n",
        "model.to(device)\n",
        "model.eval()\n",
        "\n",
        "# -------------------------------\n",
        "# EVALUATE ON TEST SET\n",
        "# -------------------------------\n",
        "all_preds = []\n",
        "all_labels = []\n",
        "\n",
        "with torch.no_grad():\n",
        "    for images, labels in test_loader:\n",
        "        images, labels = images.to(device), labels.to(device)\n",
        "        outputs = model(images)\n",
        "        _, preds = torch.max(outputs, 1)\n",
        "\n",
        "        all_preds.extend(preds.cpu().numpy())\n",
        "        all_labels.extend(labels.cpu().numpy())\n",
        "\n",
        "# -------------------------------\n",
        "# BASIC METRICS\n",
        "# -------------------------------\n",
        "acc = accuracy_score(all_labels, all_preds)\n",
        "precision = precision_score(all_labels, all_preds, average='weighted')\n",
        "recall = recall_score(all_labels, all_preds, average='weighted')\n",
        "f1 = f1_score(all_labels, all_preds, average='weighted')\n",
        "\n",
        "print(f\"✅ Test Accuracy: {acc:.4f}\")\n",
        "print(f\"✅ Precision: {precision:.4f}\")\n",
        "print(f\"✅ Recall: {recall:.4f}\")\n",
        "print(f\"✅ F1 Score: {f1:.4f}\")\n",
        "\n",
        "# -------------------------------\n",
        "# CLASSIFICATION REPORT\n",
        "# -------------------------------\n",
        "print(\"\\nClassification Report:\\n\")\n",
        "print(classification_report(all_labels, all_preds, target_names=train_dataset.classes))\n",
        "\n",
        "# -------------------------------\n",
        "# CONFUSION MATRIX\n",
        "# -------------------------------\n",
        "cm = confusion_matrix(all_labels, all_preds)\n",
        "plt.figure(figsize=(8,6))\n",
        "sns.heatmap(cm, annot=True, fmt=\"d\", cmap=\"Blues\",\n",
        "            xticklabels=train_dataset.classes,\n",
        "            yticklabels=train_dataset.classes)\n",
        "plt.xlabel(\"Predicted\")\n",
        "plt.ylabel(\"True\")\n",
        "plt.title(\"Confusion Matrix - Test Set\")\n",
        "plt.show()\n"
      ],
      "metadata": {
        "colab": {
          "base_uri": "https://localhost:8080/",
          "height": 1000
        },
        "id": "JVfyuJmi7pkm",
        "outputId": "330433ff-c0d9-4e38-e545-0f54a5ccf931"
      },
      "execution_count": null,
      "outputs": [
        {
          "output_type": "stream",
          "name": "stderr",
          "text": [
            "/usr/local/lib/python3.11/dist-packages/torchvision/models/_utils.py:208: UserWarning: The parameter 'pretrained' is deprecated since 0.13 and may be removed in the future, please use 'weights' instead.\n",
            "  warnings.warn(\n",
            "/usr/local/lib/python3.11/dist-packages/torchvision/models/_utils.py:223: UserWarning: Arguments other than a weight enum or `None` for 'weights' are deprecated since 0.13 and may be removed in the future. The current behavior is equivalent to passing `weights=None`.\n",
            "  warnings.warn(msg)\n",
            "/usr/local/lib/python3.11/dist-packages/torch/utils/data/dataloader.py:624: UserWarning: This DataLoader will create 4 worker processes in total. Our suggested max number of worker in current system is 2, which is smaller than what this DataLoader is going to create. Please be aware that excessive worker creation might get DataLoader running slow or even freeze, lower the worker number to avoid potential slowness/freeze if necessary.\n",
            "  warnings.warn(\n"
          ]
        },
        {
          "output_type": "stream",
          "name": "stdout",
          "text": [
            "✅ Test Accuracy: 0.8919\n",
            "✅ Precision: 0.8983\n",
            "✅ Recall: 0.8919\n",
            "✅ F1 Score: 0.8919\n",
            "\n",
            "Classification Report:\n",
            "\n",
            "              precision    recall  f1-score   support\n",
            "\n",
            "        down       0.93      0.91      0.92       137\n",
            "        four       0.73      0.96      0.83       134\n",
            "         one       0.95      0.94      0.95       303\n",
            "        stop       0.84      0.95      0.89       102\n",
            "       three       0.86      0.77      0.81       248\n",
            "         two       0.93      0.77      0.84       113\n",
            "          up       0.98      0.97      0.98       147\n",
            "\n",
            "    accuracy                           0.89      1184\n",
            "   macro avg       0.89      0.90      0.89      1184\n",
            "weighted avg       0.90      0.89      0.89      1184\n",
            "\n"
          ]
        },
        {
          "output_type": "display_data",
          "data": {
            "text/plain": [
              "<Figure size 800x600 with 2 Axes>"
            ],
            "image/png": "[encoded data removed]"
          },
          "metadata": {}
        }
      ]
    },
    {
      "cell_type": "code",
      "source": [
        "import numpy as np\n",
        "\n",
        "# -------------------------------\n",
        "# PER-CLASS ACCURACY\n",
        "# -------------------------------\n",
        "class_correct = [0 for _ in range(num_classes)]\n",
        "class_total = [0 for _ in range(num_classes)]\n",
        "\n",
        "with torch.no_grad():\n",
        "    for images, labels in test_loader:\n",
        "        images, labels = images.to(device), labels.to(device)\n",
        "        outputs = model(images)\n",
        "        _, preds = torch.max(outputs, 1)\n",
        "        correct = (preds == labels).squeeze()\n",
        "\n",
        "        for i in range(len(labels)):\n",
        "            label = labels[i]\n",
        "            class_correct[label] += correct[i].item()\n",
        "            class_total[label] += 1\n",
        "\n",
        "per_class_acc = [100 * c / t if t > 0 else 0.0 for c, t in zip(class_correct, class_total)]\n",
        "\n",
        "# Print per-class results\n",
        "print(\"\\n🔹 Per-Class Accuracy:\")\n",
        "for i, class_name in enumerate(train_dataset.classes):\n",
        "    print(f\"{class_name}: {per_class_acc[i]:.2f}%\")\n",
        "\n",
        "# -------------------------------\n",
        "# PLOT PER-CLASS ACCURACY\n",
        "# -------------------------------\n",
        "plt.figure(figsize=(10,6))\n",
        "sns.barplot(x=train_dataset.classes, y=per_class_acc, palette=\"viridis\")\n",
        "plt.xticks(rotation=45)\n",
        "plt.ylabel(\"Accuracy (%)\")\n",
        "plt.title(\"Per-Class Test Accuracy\")\n",
        "plt.ylim(0, 100)\n",
        "plt.show()\n"
      ],
      "metadata": {
        "colab": {
          "base_uri": "https://localhost:8080/",
          "height": 881
        },
        "id": "-mf9xBBE8dY1",
        "outputId": "ce33ce52-f0b7-46ba-a0e6-c7235e1eafc2"
      },
      "execution_count": null,
      "outputs": [
        {
          "output_type": "stream",
          "name": "stderr",
          "text": [
            "/usr/local/lib/python3.11/dist-packages/torch/utils/data/dataloader.py:624: UserWarning: This DataLoader will create 4 worker processes in total. Our suggested max number of worker in current system is 2, which is smaller than what this DataLoader is going to create. Please be aware that excessive worker creation might get DataLoader running slow or even freeze, lower the worker number to avoid potential slowness/freeze if necessary.\n",
            "  warnings.warn(\n"
          ]
        },
        {
          "output_type": "stream",
          "name": "stdout",
          "text": [
            "\n",
            "🔹 Per-Class Accuracy:\n",
            "down: 91.24%\n",
            "four: 95.52%\n",
            "one: 94.06%\n",
            "stop: 95.10%\n",
            "three: 77.02%\n",
            "two: 76.99%\n",
            "up: 97.28%\n"
          ]
        },
        {
          "output_type": "stream",
          "name": "stderr",
          "text": [
            "/tmp/ipython-input-367820715.py:32: FutureWarning: \n",
            "\n",
            "Passing `palette` without assigning `hue` is deprecated and will be removed in v0.14.0. Assign the `x` variable to `hue` and set `legend=False` for the same effect.\n",
            "\n",
            "  sns.barplot(x=train_dataset.classes, y=per_class_acc, palette=\"viridis\")\n"
          ]
        },
        {
          "output_type": "display_data",
          "data": {
            "text/plain": [
              "<Figure size 1000x600 with 1 Axes>"
            ],
            "image/png": "[encoded data removed]"
          },
          "metadata": {}
        }
      ]
    },
    {
      "cell_type": "markdown",
      "source": [
        "## Accuracy for class 'three' & 'two' is underperforming. That's why we need class-weighted CrossEntropyLoss into our training so the model pays more attention to difficult classes (two and three)."
      ],
      "metadata": {
        "id": "Suvxy3A99oH_"
      }
    },
    {
      "cell_type": "code",
      "source": [
        "from sklearn.utils.class_weight import compute_class_weight\n",
        "import numpy as np\n",
        "\n",
        "# Extract all training labels\n",
        "all_train_labels = []\n",
        "for _, labels in train_loader:\n",
        "    all_train_labels.extend(labels.numpy())\n",
        "\n",
        "# Compute weights\n",
        "class_weights = compute_class_weight(\n",
        "    class_weight=\"balanced\",\n",
        "    classes=np.arange(num_classes),\n",
        "    y=all_train_labels\n",
        ")\n",
        "\n",
        "class_weights = torch.tensor(class_weights, dtype=torch.float).to(device)\n",
        "\n",
        "print(\"Class Weights:\", class_weights)\n"
      ],
      "metadata": {
        "colab": {
          "base_uri": "https://localhost:8080/"
        },
        "id": "eMyc4na78dKk",
        "outputId": "93bd6433-1084-497d-e0d8-74ed6eee8347"
      },
      "execution_count": null,
      "outputs": [
        {
          "output_type": "stream",
          "name": "stderr",
          "text": [
            "/usr/local/lib/python3.11/dist-packages/torch/utils/data/dataloader.py:624: UserWarning: This DataLoader will create 4 worker processes in total. Our suggested max number of worker in current system is 2, which is smaller than what this DataLoader is going to create. Please be aware that excessive worker creation might get DataLoader running slow or even freeze, lower the worker number to avoid potential slowness/freeze if necessary.\n",
            "  warnings.warn(\n"
          ]
        },
        {
          "output_type": "stream",
          "name": "stdout",
          "text": [
            "Class Weights: tensor([0.9879, 0.9805, 0.9867, 1.0321, 1.0241, 0.9805, 1.0109],\n",
            "       device='cuda:0')\n"
          ]
        }
      ]
    },
    {
      "cell_type": "markdown",
      "source": [
        "## Training the new model"
      ],
      "metadata": {
        "id": "01r9lbeULpZn"
      }
    },
    {
      "cell_type": "code",
      "source": [
        "model_new = models.resnet18(pretrained=True)\n",
        "\n",
        "# Freeze all layers (you can unfreeze later for fine-tuning)\n",
        "for param in model_new.parameters():\n",
        "    param.requires_grad = False\n",
        "\n",
        "# Replace final fully connected layer\n",
        "in_features = model_new.fc.in_features\n",
        "model_new.fc = nn.Linear(in_features, num_classes)\n",
        "\n",
        "model_new = model_new.to(device)\n",
        "\n",
        "# -------------------------------\n",
        "# LOSS + OPTIMIZER\n",
        "# -------------------------------\n",
        "criterion_new = nn.CrossEntropyLoss(weight=class_weights)\n",
        "optimizer = optim.Adam(model_new.fc.parameters(), lr=learning_rate)\n",
        "\n",
        "# -------------------------------\n",
        "# TRAIN\n",
        "# -------------------------------\n",
        "trained_model_new = train_model(\n",
        "    model_new,\n",
        "    train_loader,\n",
        "    val_loader,\n",
        "    criterion_new,\n",
        "    optimizer,\n",
        "    num_epochs\n",
        ")\n"
      ],
      "metadata": {
        "colab": {
          "base_uri": "https://localhost:8080/"
        },
        "id": "plT25TxSAcFh",
        "outputId": "7a69946a-ed93-43ca-c578-76b58967747b"
      },
      "execution_count": null,
      "outputs": [
        {
          "output_type": "stream",
          "name": "stderr",
          "text": [
            "/usr/local/lib/python3.11/dist-packages/torchvision/models/_utils.py:208: UserWarning: The parameter 'pretrained' is deprecated since 0.13 and may be removed in the future, please use 'weights' instead.\n",
            "  warnings.warn(\n",
            "/usr/local/lib/python3.11/dist-packages/torchvision/models/_utils.py:223: UserWarning: Arguments other than a weight enum or `None` for 'weights' are deprecated since 0.13 and may be removed in the future. The current behavior is equivalent to passing `weights=ResNet18_Weights.IMAGENET1K_V1`. You can also use `weights=ResNet18_Weights.DEFAULT` to get the most up-to-date weights.\n",
            "  warnings.warn(msg)\n"
          ]
        },
        {
          "output_type": "stream",
          "name": "stdout",
          "text": [
            "\n",
            "Epoch 1/20\n",
            "--------------------\n"
          ]
        },
        {
          "output_type": "stream",
          "name": "stderr",
          "text": [
            "100%|██████████| 172/172 [00:46<00:00,  3.73it/s]\n"
          ]
        },
        {
          "output_type": "stream",
          "name": "stdout",
          "text": [
            "Train Loss: 1.9042, Train Acc: 23.38%\n",
            "Val Loss: 1.7361, Val Acc: 37.70%\n",
            "✅ Saved Best Model\n",
            "\n",
            "Epoch 2/20\n",
            "--------------------\n"
          ]
        },
        {
          "output_type": "stream",
          "name": "stderr",
          "text": [
            "100%|██████████| 172/172 [00:47<00:00,  3.61it/s]\n"
          ]
        },
        {
          "output_type": "stream",
          "name": "stdout",
          "text": [
            "Train Loss: 1.5555, Train Acc: 52.98%\n",
            "Val Loss: 1.4231, Val Acc: 58.13%\n",
            "✅ Saved Best Model\n",
            "\n",
            "Epoch 3/20\n",
            "--------------------\n"
          ]
        },
        {
          "output_type": "stream",
          "name": "stderr",
          "text": [
            "100%|██████████| 172/172 [00:46<00:00,  3.73it/s]\n"
          ]
        },
        {
          "output_type": "stream",
          "name": "stdout",
          "text": [
            "Train Loss: 1.3160, Train Acc: 67.07%\n",
            "Val Loss: 1.2461, Val Acc: 59.83%\n",
            "✅ Saved Best Model\n",
            "\n",
            "Epoch 4/20\n",
            "--------------------\n"
          ]
        },
        {
          "output_type": "stream",
          "name": "stderr",
          "text": [
            "100%|██████████| 172/172 [00:46<00:00,  3.71it/s]\n"
          ]
        },
        {
          "output_type": "stream",
          "name": "stdout",
          "text": [
            "Train Loss: 1.1546, Train Acc: 75.14%\n",
            "Val Loss: 1.0922, Val Acc: 64.94%\n",
            "✅ Saved Best Model\n",
            "\n",
            "Epoch 5/20\n",
            "--------------------\n"
          ]
        },
        {
          "output_type": "stream",
          "name": "stderr",
          "text": [
            "100%|██████████| 172/172 [00:47<00:00,  3.62it/s]\n"
          ]
        },
        {
          "output_type": "stream",
          "name": "stdout",
          "text": [
            "Train Loss: 1.0149, Train Acc: 79.35%\n",
            "Val Loss: 0.9590, Val Acc: 76.94%\n",
            "✅ Saved Best Model\n",
            "\n",
            "Epoch 6/20\n",
            "--------------------\n"
          ]
        },
        {
          "output_type": "stream",
          "name": "stderr",
          "text": [
            "100%|██████████| 172/172 [00:46<00:00,  3.72it/s]\n"
          ]
        },
        {
          "output_type": "stream",
          "name": "stdout",
          "text": [
            "Train Loss: 0.9149, Train Acc: 81.48%\n",
            "Val Loss: 0.8782, Val Acc: 76.85%\n",
            "\n",
            "Epoch 7/20\n",
            "--------------------\n"
          ]
        },
        {
          "output_type": "stream",
          "name": "stderr",
          "text": [
            "100%|██████████| 172/172 [00:46<00:00,  3.71it/s]\n"
          ]
        },
        {
          "output_type": "stream",
          "name": "stdout",
          "text": [
            "Train Loss: 0.8508, Train Acc: 82.46%\n",
            "Val Loss: 0.7848, Val Acc: 81.11%\n",
            "✅ Saved Best Model\n",
            "\n",
            "Epoch 8/20\n",
            "--------------------\n"
          ]
        },
        {
          "output_type": "stream",
          "name": "stderr",
          "text": [
            "100%|██████████| 172/172 [00:46<00:00,  3.69it/s]\n"
          ]
        },
        {
          "output_type": "stream",
          "name": "stdout",
          "text": [
            "Train Loss: 0.7765, Train Acc: 84.54%\n",
            "Val Loss: 0.7144, Val Acc: 82.89%\n",
            "✅ Saved Best Model\n",
            "\n",
            "Epoch 9/20\n",
            "--------------------\n"
          ]
        },
        {
          "output_type": "stream",
          "name": "stderr",
          "text": [
            "100%|██████████| 172/172 [00:46<00:00,  3.71it/s]\n"
          ]
        },
        {
          "output_type": "stream",
          "name": "stdout",
          "text": [
            "Train Loss: 0.7307, Train Acc: 84.85%\n",
            "Val Loss: 0.6766, Val Acc: 83.66%\n",
            "✅ Saved Best Model\n",
            "\n",
            "Epoch 10/20\n",
            "--------------------\n"
          ]
        },
        {
          "output_type": "stream",
          "name": "stderr",
          "text": [
            "100%|██████████| 172/172 [00:45<00:00,  3.76it/s]\n"
          ]
        },
        {
          "output_type": "stream",
          "name": "stdout",
          "text": [
            "Train Loss: 0.6786, Train Acc: 85.76%\n",
            "Val Loss: 0.6285, Val Acc: 85.53%\n",
            "✅ Saved Best Model\n",
            "\n",
            "Epoch 11/20\n",
            "--------------------\n"
          ]
        },
        {
          "output_type": "stream",
          "name": "stderr",
          "text": [
            "100%|██████████| 172/172 [00:46<00:00,  3.69it/s]\n"
          ]
        },
        {
          "output_type": "stream",
          "name": "stdout",
          "text": [
            "Train Loss: 0.6521, Train Acc: 85.87%\n",
            "Val Loss: 0.5938, Val Acc: 85.19%\n",
            "\n",
            "Epoch 12/20\n",
            "--------------------\n"
          ]
        },
        {
          "output_type": "stream",
          "name": "stderr",
          "text": [
            "100%|██████████| 172/172 [00:45<00:00,  3.75it/s]\n"
          ]
        },
        {
          "output_type": "stream",
          "name": "stdout",
          "text": [
            "Train Loss: 0.6152, Train Acc: 87.07%\n",
            "Val Loss: 0.5672, Val Acc: 86.89%\n",
            "✅ Saved Best Model\n",
            "\n",
            "Epoch 13/20\n",
            "--------------------\n"
          ]
        },
        {
          "output_type": "stream",
          "name": "stderr",
          "text": [
            "100%|██████████| 172/172 [00:45<00:00,  3.76it/s]\n"
          ]
        },
        {
          "output_type": "stream",
          "name": "stdout",
          "text": [
            "Train Loss: 0.6054, Train Acc: 85.87%\n",
            "Val Loss: 0.5195, Val Acc: 89.36%\n",
            "✅ Saved Best Model\n",
            "\n",
            "Epoch 14/20\n",
            "--------------------\n"
          ]
        },
        {
          "output_type": "stream",
          "name": "stderr",
          "text": [
            "100%|██████████| 172/172 [00:47<00:00,  3.65it/s]\n"
          ]
        },
        {
          "output_type": "stream",
          "name": "stdout",
          "text": [
            "Train Loss: 0.5718, Train Acc: 87.32%\n",
            "Val Loss: 0.5044, Val Acc: 88.43%\n",
            "\n",
            "Epoch 15/20\n",
            "--------------------\n"
          ]
        },
        {
          "output_type": "stream",
          "name": "stderr",
          "text": [
            "100%|██████████| 172/172 [00:46<00:00,  3.70it/s]\n"
          ]
        },
        {
          "output_type": "stream",
          "name": "stdout",
          "text": [
            "Train Loss: 0.5571, Train Acc: 87.27%\n",
            "Val Loss: 0.4983, Val Acc: 87.91%\n",
            "\n",
            "Epoch 16/20\n",
            "--------------------\n"
          ]
        },
        {
          "output_type": "stream",
          "name": "stderr",
          "text": [
            "100%|██████████| 172/172 [00:45<00:00,  3.76it/s]\n"
          ]
        },
        {
          "output_type": "stream",
          "name": "stdout",
          "text": [
            "Train Loss: 0.5186, Train Acc: 88.24%\n",
            "Val Loss: 0.4692, Val Acc: 89.19%\n",
            "\n",
            "Epoch 17/20\n",
            "--------------------\n"
          ]
        },
        {
          "output_type": "stream",
          "name": "stderr",
          "text": [
            "100%|██████████| 172/172 [00:47<00:00,  3.66it/s]\n"
          ]
        },
        {
          "output_type": "stream",
          "name": "stdout",
          "text": [
            "Train Loss: 0.5126, Train Acc: 88.22%\n",
            "Val Loss: 0.4628, Val Acc: 89.28%\n",
            "\n",
            "Epoch 18/20\n",
            "--------------------\n"
          ]
        },
        {
          "output_type": "stream",
          "name": "stderr",
          "text": [
            "100%|██████████| 172/172 [00:47<00:00,  3.59it/s]\n"
          ]
        },
        {
          "output_type": "stream",
          "name": "stdout",
          "text": [
            "Train Loss: 0.4965, Train Acc: 88.33%\n",
            "Val Loss: 0.4278, Val Acc: 90.55%\n",
            "✅ Saved Best Model\n",
            "\n",
            "Epoch 19/20\n",
            "--------------------\n"
          ]
        },
        {
          "output_type": "stream",
          "name": "stderr",
          "text": [
            "100%|██████████| 172/172 [00:46<00:00,  3.73it/s]\n"
          ]
        },
        {
          "output_type": "stream",
          "name": "stdout",
          "text": [
            "Train Loss: 0.4900, Train Acc: 88.49%\n",
            "Val Loss: 0.4243, Val Acc: 91.23%\n",
            "✅ Saved Best Model\n",
            "\n",
            "Epoch 20/20\n",
            "--------------------\n"
          ]
        },
        {
          "output_type": "stream",
          "name": "stderr",
          "text": [
            "100%|██████████| 172/172 [00:46<00:00,  3.71it/s]\n"
          ]
        },
        {
          "output_type": "stream",
          "name": "stdout",
          "text": [
            "Train Loss: 0.4721, Train Acc: 89.00%\n",
            "Val Loss: 0.4318, Val Acc: 90.47%\n",
            "\n",
            "Training complete. Best Val Acc: 91.23%\n"
          ]
        }
      ]
    },
    {
      "cell_type": "code",
      "source": [
        "import numpy as np\n",
        "\n",
        "# -------------------------------\n",
        "# PER-CLASS ACCURACY\n",
        "# -------------------------------\n",
        "class_correct = [0 for _ in range(num_classes)]\n",
        "class_total = [0 for _ in range(num_classes)]\n",
        "\n",
        "with torch.no_grad():\n",
        "    for images, labels in test_loader:\n",
        "        images, labels = images.to(device), labels.to(device)\n",
        "        outputs = model_new(images)\n",
        "        _, preds = torch.max(outputs, 1)\n",
        "        correct = (preds == labels).squeeze()\n",
        "\n",
        "        for i in range(len(labels)):\n",
        "            label = labels[i]\n",
        "            class_correct[label] += correct[i].item()\n",
        "            class_total[label] += 1\n",
        "\n",
        "per_class_acc = [100 * c / t if t > 0 else 0.0 for c, t in zip(class_correct, class_total)]\n",
        "\n",
        "# Print per-class results\n",
        "print(\"\\n🔹 Per-Class Accuracy:\")\n",
        "for i, class_name in enumerate(train_dataset.classes):\n",
        "    print(f\"{class_name}: {per_class_acc[i]:.2f}%\")\n",
        "\n",
        "# -------------------------------\n",
        "# PLOT PER-CLASS ACCURACY\n",
        "# -------------------------------\n",
        "plt.figure(figsize=(10,6))\n",
        "sns.barplot(x=train_dataset.classes, y=per_class_acc, palette=\"viridis\")\n",
        "plt.xticks(rotation=45)\n",
        "plt.ylabel(\"Accuracy (%)\")\n",
        "plt.title(\"Per-Class Test Accuracy\")\n",
        "plt.ylim(0, 100)\n",
        "plt.show()\n"
      ],
      "metadata": {
        "colab": {
          "base_uri": "https://localhost:8080/",
          "height": 881
        },
        "id": "XMa9xCoO-6XE",
        "outputId": "9eed5819-575b-4d1c-b864-095c7c6f990c"
      },
      "execution_count": null,
      "outputs": [
        {
          "output_type": "stream",
          "name": "stderr",
          "text": [
            "/usr/local/lib/python3.11/dist-packages/torch/utils/data/dataloader.py:624: UserWarning: This DataLoader will create 4 worker processes in total. Our suggested max number of worker in current system is 2, which is smaller than what this DataLoader is going to create. Please be aware that excessive worker creation might get DataLoader running slow or even freeze, lower the worker number to avoid potential slowness/freeze if necessary.\n",
            "  warnings.warn(\n"
          ]
        },
        {
          "output_type": "stream",
          "name": "stdout",
          "text": [
            "\n",
            "🔹 Per-Class Accuracy:\n",
            "down: 88.32%\n",
            "four: 94.78%\n",
            "one: 87.79%\n",
            "stop: 97.06%\n",
            "three: 82.26%\n",
            "two: 82.30%\n",
            "up: 97.96%\n"
          ]
        },
        {
          "output_type": "stream",
          "name": "stderr",
          "text": [
            "/tmp/ipython-input-3131096691.py:32: FutureWarning: \n",
            "\n",
            "Passing `palette` without assigning `hue` is deprecated and will be removed in v0.14.0. Assign the `x` variable to `hue` and set `legend=False` for the same effect.\n",
            "\n",
            "  sns.barplot(x=train_dataset.classes, y=per_class_acc, palette=\"viridis\")\n"
          ]
        },
        {
          "output_type": "display_data",
          "data": {
            "text/plain": [
              "<Figure size 1000x600 with 1 Axes>"
            ],
            "image/png": "[encoded data removed]"
          },
          "metadata": {}
        }
      ]
    },
    {
      "cell_type": "code",
      "source": [
        "import torch\n",
        "import seaborn as sns\n",
        "import matplotlib.pyplot as plt\n",
        "from sklearn.metrics import confusion_matrix, ConfusionMatrixDisplay\n",
        "\n",
        "# Put model in eval mode\n",
        "trained_model_new.eval()\n",
        "\n",
        "all_preds = []\n",
        "all_labels = []\n",
        "\n",
        "with torch.no_grad():\n",
        "    for images, labels in test_loader:\n",
        "        images, labels = images.to(device), labels.to(device)\n",
        "        outputs = trained_model_new(images)\n",
        "        _, preds = torch.max(outputs, 1)\n",
        "        all_preds.extend(preds.cpu().numpy())\n",
        "        all_labels.extend(labels.cpu().numpy())\n",
        "\n",
        "# Compute confusion matrix\n",
        "cm = confusion_matrix(all_labels, all_preds)\n",
        "class_names = train_dataset.classes  # class order from your ImageFolder\n",
        "\n",
        "# Plot heatmap\n",
        "plt.figure(figsize=(8, 6))\n",
        "sns.heatmap(cm, annot=True, fmt=\"d\", cmap=\"Blues\",\n",
        "            xticklabels=class_names, yticklabels=class_names)\n",
        "plt.xlabel(\"Predicted\")\n",
        "plt.ylabel(\"True\")\n",
        "plt.title(\"Confusion Matrix - Underwater Gesture Detection\")\n",
        "plt.show()\n"
      ],
      "metadata": {
        "colab": {
          "base_uri": "https://localhost:8080/",
          "height": 621
        },
        "id": "u9Fk3r_4Hx_v",
        "outputId": "501bc132-c120-4858-fe64-857007c194db"
      },
      "execution_count": null,
      "outputs": [
        {
          "output_type": "stream",
          "name": "stderr",
          "text": [
            "/usr/local/lib/python3.11/dist-packages/torch/utils/data/dataloader.py:624: UserWarning: This DataLoader will create 4 worker processes in total. Our suggested max number of worker in current system is 2, which is smaller than what this DataLoader is going to create. Please be aware that excessive worker creation might get DataLoader running slow or even freeze, lower the worker number to avoid potential slowness/freeze if necessary.\n",
            "  warnings.warn(\n"
          ]
        },
        {
          "output_type": "display_data",
          "data": {
            "text/plain": [
              "<Figure size 800x600 with 2 Axes>"
            ],
            "image/png": "[encoded data removed]"
          },
          "metadata": {}
        }
      ]
    },
    {
      "cell_type": "code",
      "source": [
        "import numpy as np\n",
        "\n",
        "# Normalize confusion matrix (row-wise → per-class percentages)\n",
        "cm_normalized = cm.astype('float') / cm.sum(axis=1)[:, np.newaxis]\n",
        "\n",
        "# Plot normalized heatmap\n",
        "plt.figure(figsize=(8, 6))\n",
        "sns.heatmap(cm_normalized, annot=True, fmt=\".2f\", cmap=\"Blues\",\n",
        "            xticklabels=class_names, yticklabels=class_names)\n",
        "plt.xlabel(\"Predicted\")\n",
        "plt.ylabel(\"True\")\n",
        "plt.title(\"Normalized Confusion Matrix (%) - Underwater Gesture Detection\")\n",
        "plt.show()\n"
      ],
      "metadata": {
        "colab": {
          "base_uri": "https://localhost:8080/",
          "height": 564
        },
        "id": "B0kLmdPKIof_",
        "outputId": "ed531148-4e4c-49cd-c639-b75070ebcee4"
      },
      "execution_count": null,
      "outputs": [
        {
          "output_type": "display_data",
          "data": {
            "text/plain": [
              "<Figure size 800x600 with 2 Axes>"
            ],
            "image/png": "[encoded data removed]"
          },
          "metadata": {}
        }
      ]
    },
    {
      "cell_type": "code",
      "source": [],
      "metadata": {
        "id": "lqMs9J9ZIqPo"
      },
      "execution_count": null,
      "outputs": []
    }
  ]
}